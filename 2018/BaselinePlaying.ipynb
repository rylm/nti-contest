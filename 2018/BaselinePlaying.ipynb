{
 "cells": [
  {
   "cell_type": "code",
   "execution_count": 1,
   "metadata": {},
   "outputs": [],
   "source": [
    "import sklearn as sk\n",
    "from sklearn import ensemble\n",
    "import operator\n",
    "from sklearn import model_selection  as ms\n",
    "from sklearn.metrics import mean_squared_error as mse\n",
    "from sklearn.metrics import r2_score as rsc\n",
    "from catboost import CatBoostRegressor\n",
    "from autograd import elementwise_grad as egrad\n",
    "import math"
   ]
  },
  {
   "cell_type": "code",
   "execution_count": 21,
   "metadata": {},
   "outputs": [],
   "source": [
    "import theano.tensor as T\n",
    "import theano\n",
    "def make_grad_fn(loss_fun = lambda y_pred, y_ref: T.mean((y_pred - y_ref) ** 2),\n",
    "                 hess_diag=True):\n",
    "\n",
    "    y_pred = T.dvector('predicted')\n",
    "    y_ref = T.dvector('reference')\n",
    "    \n",
    "    loss = loss_fun(y_pred, y_ref)\n",
    "    grad = T.grad(loss, y_pred)\n",
    "    if hess_diag:\n",
    "        def second_derivative_fun(y_pred, y_ref):\n",
    "            loss_i = loss_fun(y_pred, y_ref)\n",
    "            grad_i = T.grad(loss_i, y_pred)\n",
    "            hess_i = T.grad(grad_i, y_pred)\n",
    "            return hess_i\n",
    "        \n",
    "        hess = theano.map(second_derivative_fun, [y_pred, y_ref])[0]\n",
    "    else:        \n",
    "        hess = theano.gradient.hessian(loss, y_pred)\n",
    "    \n",
    "    return theano.function([y_pred, y_ref], [loss, grad, hess])\n",
    "    "
   ]
  },
  {
   "cell_type": "code",
   "execution_count": 22,
   "metadata": {},
   "outputs": [
    {
     "data": {
      "text/plain": [
       "[array(4.33333333),\n",
       " array([ 0.13333333, -0.2       ,  0.        ,  0.13333333, -0.2       ,\n",
       "         0.        ,  0.13333333, -0.2       ,  0.        ,  0.13333333,\n",
       "        -0.2       ,  0.        ,  0.13333333, -0.2       ,  0.        ,\n",
       "         0.13333333, -0.2       ,  0.        ,  0.13333333, -0.2       ,\n",
       "         0.        ,  0.13333333, -0.2       ,  0.        ,  0.13333333,\n",
       "        -0.2       ,  0.        ,  0.13333333, -0.2       ,  0.        ]),\n",
       " array([2., 2., 2., 2., 2., 2., 2., 2., 2., 2., 2., 2., 2., 2., 2., 2., 2.,\n",
       "        2., 2., 2., 2., 2., 2., 2., 2., 2., 2., 2., 2., 2.])]"
      ]
     },
     "execution_count": 22,
     "metadata": {},
     "output_type": "execute_result"
    }
   ],
   "source": [
    "compute = make_grad_fn()\n",
    "compute([1,2,3] * 10 , [-1, 5, 3] * 10)"
   ]
  },
  {
   "cell_type": "code",
   "execution_count": 26,
   "metadata": {},
   "outputs": [
    {
     "name": "stdout",
     "output_type": "stream",
     "text": [
      "9.08 ms ± 557 µs per loop (mean ± std. dev. of 7 runs, 100 loops each)\n"
     ]
    }
   ],
   "source": [
    "%%timeit\n",
    "compute([1,2,3] * 1000 , [-1, 5, 3] * 1000)"
   ]
  },
  {
   "cell_type": "code",
   "execution_count": 2,
   "metadata": {},
   "outputs": [],
   "source": [
    "import pandas as pd\n",
    "import numpy as np\n",
    "import re\n",
    "import datetime\n",
    "import catboost\n",
    "pd.options.display.max_columns = 300"
   ]
  },
  {
   "cell_type": "code",
   "execution_count": 3,
   "metadata": {},
   "outputs": [],
   "source": [
    "class ComplexObjective(object):\n",
    "    def calc_ders_range(self, approxes, targets, weights):\n",
    "        # approxes, targets, weights are indexed containers of floats (containers with only __len__ and __getitem__ defined).\n",
    "        # weights parameter can be None.\n",
    "        # Returns list of pairs (der1, der2)\n",
    "        assert len(approxes) == len(targets)\n",
    "        if weights is not None:\n",
    "            assert len(weights) == len(approxes)\n",
    "\n",
    "        result = []\n",
    "        for index in range(len(targets)):\n",
    "            if has_dirt(targets[index]):\n",
    "                p = np.max(clean(targets[index]) - approxes[index], 0)\n",
    "                der1 = np.tanh(p)\n",
    "                der2 = 1 - der1*der1\n",
    "            else:\n",
    "                p = clean(targets[index]) - approxes[index]\n",
    "                der1 = np.tanh(p)\n",
    "                der2 = 1 - der1*der1\n",
    "\n",
    "            if weights is not None:\n",
    "                der1 *= weights[index]\n",
    "                der2 *= weights[index]\n",
    "\n",
    "            result.append((der1, der2))\n",
    "\n",
    "        return result"
   ]
  },
  {
   "cell_type": "code",
   "execution_count": null,
   "metadata": {},
   "outputs": [],
   "source": [
    "def date_to_days(date):\n",
    "    if type(date) in [int, float] and 0 <= date < 100:\n",
    "        date = str(int(date))\n",
    "    if type(date) != str:\n",
    "        return date\n",
    "    if True not in [str(i) in str(date) for i in range(10)]:\n",
    "        return None\n",
    "    if '-' not in date:\n",
    "        point = datetime.datetime.strptime('1011000'.replace('.',''), \"%d%m%Y\")\n",
    "        if '.' in date:\n",
    "            d, m, y = map(int, date.split('.'))\n",
    "        else:\n",
    "            y = int(date)\n",
    "            d, m = 30, 12\n",
    "        st = 1900\n",
    "        if y < 20:\n",
    "            st += 100\n",
    "        sd = datetime.datetime(st + y, m, d)\n",
    "    else:\n",
    "        point = datetime.datetime.strptime('1011000'.replace('.',''), \"%d%m%Y\")\n",
    "        y, m, d = map(int, date.split('-'))\n",
    "        sd = datetime.datetime(y, m, d)\n",
    "    return (sd - point).days\n",
    "def date_booling(X):\n",
    "    x = X.copy()\n",
    "    date_columns = ['Year', 'Birth', 'DiagDate', 'RemDate','MGM_Date', \n",
    "                        'OVGMDate', 'GM_Date', 'FirstRH', 'Relapse', 'MetaAfter']\n",
    "    for col in date_columns:\n",
    "        nans = len(x[col][x[col].isnull()]) / len(x)\n",
    "        if nans > 0.45:\n",
    "            x[col] = np.sign(x[col].fillna(0))\n",
    "    return x\n",
    "def columnFix(X):\n",
    "    x = X.copy()\n",
    "    remove_cols = ['HID', 'OS', 'Encoded_FIO', 'Time (мес)', 'Дата последнего наблюдения ', 'DEATH',\n",
    "                   'Time (мес)', '916', 'DEATH_DATE', 'Time_delta', 'last_seen', 'Death_time',\n",
    "                  'MGM_start', 'life_period']\n",
    "    for col in remove_cols:\n",
    "        if col in x.columns:\n",
    "            x = x.drop(col, axis=1)\n",
    "    x.columns =  ['Year', 'Sex', 'Birth', 'Diagnosis', 'DiagDate', 'RemDate', 'MGM_Date', \n",
    "                        'Mutations', 'OVGMDate', 'GM_Date', 'RHNum', 'FirstRH','KInd',\n",
    "                        'FocNum', 'FocSize', 'FocMax', 'MetaBefore', 'Cure', \n",
    "                        'Relapse', 'MetaAfter', 'Progression', 'CureAfter']\n",
    "    return x\n",
    "def cleanTable(X):\n",
    "    x = X.copy().sort_index()\n",
    "    x = columnFix(x)\n",
    "    for i in x.columns:\n",
    "        x[i] = x[i].map(lambda t: t if type(t)!=str else t.lower())\n",
    "    for i in x.columns:\n",
    "        if 'есть' in np.array(x[i]):\n",
    "            x[i] = x[i].map({'есть':1, 'нет':0})\n",
    "    date_columns = ['Year', 'Birth', 'DiagDate', 'RemDate','MGM_Date', \n",
    "                    'OVGMDate', 'GM_Date', 'FirstRH', 'Relapse', 'MetaAfter',\n",
    "                    'CureAfter']\n",
    "    for col in date_columns:\n",
    "        x[col] = x[col].map(date_to_days)\n",
    "    x.FocMax = x.FocMax.map(lambda s: s.replace(',', '.'))\n",
    "    x = pd.DataFrame(np.where(np.array(x) == 'нет', None, x))\n",
    "    x = columnFix(x)\n",
    "    category_cols = ['Sex', 'Diagnosis', 'Cure', 'Progression', 'CureAfter']\n",
    "    for col in date_columns:\n",
    "        x[col] = x[col].fillna(x[col].mean())\n",
    "    for col in ['Mutations', 'MetaBefore']:\n",
    "        x[col] = x[col].fillna(0)\n",
    "    x = pd.get_dummies(x, columns=category_cols)\n",
    "    #for col in category_cols:\n",
    "    #    x[col] = pd.factorize(x[col])[0]\n",
    "    newcols = ['not_treat', 'rh_del_diag', 'rh_del_birth', 'diag_age', 'mgm_del_birth', 'mgm_del_diag']\n",
    "    cols1 = ['Year', 'FirstRH', 'FirstRH', 'DiagDate', 'MGM_Date','MGM_Date']\n",
    "    cols2 = ['DiagDate', 'DiagDate', 'Birth', 'Birth', 'Birth', 'DiagDate']\n",
    "    #x = delta(x, newcols, cols1, cols2)\n",
    "    x['Progression_дм'] = x['Progression_дм'] | x['Progression_лр+дм']\n",
    "    x['Progression_лр'] = x['Progression_лр'] | x['Progression_лр+дм']\n",
    "    x = date_booling(x.drop('Progression_лр+дм', axis=1))\n",
    "    x.drop(['Sex_ж'], axis=1, inplace=True)\n",
    "    x.KInd /= 100\n",
    "    return x"
   ]
  },
  {
   "cell_type": "code",
   "execution_count": 5,
   "metadata": {},
   "outputs": [],
   "source": [
    "class MeanModel:\n",
    "    def __init__(self, *mw):\n",
    "        self.models = [i[0] for i in mw]\n",
    "        self.w = [i[1] for i in mw]\n",
    "    def fit(self, X_train, y_train):\n",
    "        for model in self.models:\n",
    "            model.fit(X_train, y_train)\n",
    "    def predict(self, x_in):\n",
    "        res = np.zeros(len(x_in))\n",
    "        for model, w in zip(self.models, self.w):\n",
    "            res += model.predict(x_in) * w\n",
    "        return res / np.sum(w)\n",
    "def mean_ans(*anss):\n",
    "    return np.sum([i * t for i,t in anss], axis=0) / sum([i[1] for i in anss])"
   ]
  },
  {
   "cell_type": "code",
   "execution_count": 6,
   "metadata": {},
   "outputs": [],
   "source": [
    "def delta(data, new_col, fcol1, fcol2):\n",
    "    fdata = data.copy()\n",
    "    for i in range(len(new_col)):\n",
    "        fdata[new_col[i]] = fdata[fcol1[i]] - fdata[fcol2[i]]\n",
    "        fdata[new_col[i]] = fdata[new_col[i]].fillna(int(fdata[new_col[i]].mean()))\n",
    "    fdata.drop(set(fcol1 + fcol2), axis = 1, inplace = True)\n",
    "    return fdata"
   ]
  },
  {
   "cell_type": "code",
   "execution_count": 7,
   "metadata": {},
   "outputs": [],
   "source": [
    "def add_dirt(y):\n",
    "    return np.array(y) + 0.25\n",
    "def has_dirt(y):\n",
    "    return y % 1 == 0.25\n",
    "def clean(y):\n",
    "    return np.floor(y)"
   ]
  },
  {
   "cell_type": "code",
   "execution_count": 8,
   "metadata": {
    "scrolled": false
   },
   "outputs": [],
   "source": [
    "#read data\n",
    "X_in = pd.read_csv(\"X_train_new.csv\", encoding=\"windows-1251\")\n",
    "y_in = pd.read_csv(\"y_train_new.csv\", encoding=\"windows-1251\", header=None)\n",
    "X_final = pd.read_csv('X_test_new.csv', encoding = 'windows-1251')\n",
    "#split test and train\n",
    "alive = pd.read_csv('data_pacientAlive.csv', encoding='windows-1251')\n",
    "params = np.load('bp.npy')"
   ]
  },
  {
   "cell_type": "code",
   "execution_count": 9,
   "metadata": {
    "scrolled": false
   },
   "outputs": [
    {
     "name": "stderr",
     "output_type": "stream",
     "text": [
      "/Users/alexajax/anaconda3/lib/python3.5/site-packages/ipykernel/__main__.py:52: FutureWarning: elementwise comparison failed; returning scalar instead, but in the future will perform elementwise comparison\n",
      "/Users/alexajax/anaconda3/lib/python3.5/site-packages/ipykernel/__main__.py:52: FutureWarning: elementwise comparison failed; returning scalar instead, but in the future will perform elementwise comparison\n"
     ]
    }
   ],
   "source": [
    "X_in = cleanTable(X_in)\n",
    "X_final = cleanTable(X_final)\n",
    "period = alive.life_period.map(lambda x: int(x.split()[0]) if type(x) == str else None)\n",
    "alive = cleanTable(alive)\n",
    "X_all = pd.concat([alive, X_in])\n",
    "y_all = pd.concat([pd.DataFrame(add_dirt(period)), y_in])\n",
    "X_train, X_test, y_train, y_test = ms.train_test_split(X_all,\n",
    "                   y_all, test_size=0.3)"
   ]
  },
  {
   "cell_type": "code",
   "execution_count": 10,
   "metadata": {},
   "outputs": [],
   "source": [
    "ctb = catboost.CatBoostRegressor(iterations=100, loss_function=ComplexObjective())"
   ]
  },
  {
   "cell_type": "code",
   "execution_count": null,
   "metadata": {},
   "outputs": [],
   "source": [
    "ctb.fit(X_all, np.ravel(y_all), verbose=True)"
   ]
  },
  {
   "cell_type": "code",
   "execution_count": null,
   "metadata": {},
   "outputs": [],
   "source": []
  }
 ],
 "metadata": {
  "anaconda-cloud": {},
  "kernelspec": {
   "display_name": "Python [conda env:anaconda3]",
   "language": "python",
   "name": "conda-env-anaconda3-py"
  },
  "language_info": {
   "codemirror_mode": {
    "name": "ipython",
    "version": 3
   },
   "file_extension": ".py",
   "mimetype": "text/x-python",
   "name": "python",
   "nbconvert_exporter": "python",
   "pygments_lexer": "ipython3",
   "version": "3.5.4"
  }
 },
 "nbformat": 4,
 "nbformat_minor": 2
}
