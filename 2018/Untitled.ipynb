{
 "cells": [
  {
   "cell_type": "markdown",
   "metadata": {},
   "source": [
    "# Task 1"
   ]
  },
  {
   "cell_type": "markdown",
   "metadata": {},
   "source": [
    "## Preprocessing"
   ]
  },
  {
   "cell_type": "code",
   "execution_count": 1,
   "metadata": {},
   "outputs": [],
   "source": [
    "import numpy as np\n",
    "import pandas as pd\n",
    "from catboost import CatBoostRegressor\n",
    "from sklearn.model_selection import train_test_split\n",
    "from sklearn.metrics import r2_score\n",
    "from sklearn.ensemble import GradientBoostingRegressor, ExtraTreesRegressor, RandomForestRegressor\n",
    "import theano.tensor as T\n",
    "import theano"
   ]
  },
  {
   "cell_type": "code",
   "execution_count": 2,
   "metadata": {},
   "outputs": [],
   "source": [
    "def totuple(a):\n",
    "    try:\n",
    "        return tuple(totuple(i) for i in a)\n",
    "    except TypeError:\n",
    "        return a"
   ]
  },
  {
   "cell_type": "code",
   "execution_count": 3,
   "metadata": {},
   "outputs": [],
   "source": [
    "has_dirt = lambda y: y % 1 !=0"
   ]
  },
  {
   "cell_type": "code",
   "execution_count": 4,
   "metadata": {},
   "outputs": [],
   "source": [
    "add_dirt = lambda y: y + 0.25"
   ]
  },
  {
   "cell_type": "code",
   "execution_count": 5,
   "metadata": {},
   "outputs": [],
   "source": [
    "x_train = pd.read_csv(\"X_train_new.csv\", encoding='windows-1251').drop(columns=['Год', 'HID', 'Encoded_FIO', 'OS'])\n",
    "y_train = pd.read_csv(\"y_train_new.csv\", encoding='windows-1251', header=None)\n",
    "x_test = pd.read_csv(\"X_test_new.csv\", encoding='windows-1251').drop(columns=['Год', 'HID', 'Encoded_FIO'])\n",
    "ap = pd.read_csv(\"data_pacientAlive.csv\", encoding='windows-1251').drop(columns=['Год', 'HID', 'Encoded_FIO', '916'])"
   ]
  },
  {
   "cell_type": "code",
   "execution_count": 6,
   "metadata": {},
   "outputs": [],
   "source": [
    "x_train.columns = ['sex', 'birth_date', 'diag', 'diag_date', 'first_site', 'bmd_date', 'mutations', 'rad_date', 'surg_date', 'n_gamma', 'gamma_date', 'ecog', 'n_sites', 'sites_volume', 'max_volume', 'extra_m', 'treatment', 'local_relapse', 'distant_m', 'intra_prog', 'ir_treatment', 'last_exam', 'death', 'time']\n",
    "x_test.columns = ['sex', 'birth_date', 'diag', 'diag_date', 'first_site', 'bmd_date', 'mutations', 'rad_date', 'surg_date', 'n_gamma', 'gamma_date', 'ecog', 'n_sites', 'sites_volume', 'max_volume', 'extra_m', 'treatment', 'local_relapse', 'distant_m', 'intra_prog', 'ir_treatment']\n",
    "ap.columns = ['sex', 'birth_date', 'diag', 'diag_date', 'first_site', 'bmd_date', 'mutations', 'rad_date', 'surg_date', 'n_gamma', 'gamma_date', 'ecog', 'n_sites', 'sites_volume', 'max_volume', 'extra_m', 'treatment', 'local_relapse', 'distant_m', 'intra_prog', 'ir_treatment', 'last_exam', 'death', 'time', 'life_period']"
   ]
  },
  {
   "cell_type": "code",
   "execution_count": 7,
   "metadata": {},
   "outputs": [],
   "source": [
    "ap.life_period = ap.life_period.map(lambda x: int(x.split()[0]) if type(x) == str else None)"
   ]
  },
  {
   "cell_type": "code",
   "execution_count": 8,
   "metadata": {},
   "outputs": [],
   "source": [
    "ap.dropna(subset=['life_period'], inplace=True)"
   ]
  },
  {
   "cell_type": "code",
   "execution_count": 9,
   "metadata": {},
   "outputs": [],
   "source": [
    "y_ap = add_dirt(ap.pop('life_period'))"
   ]
  },
  {
   "cell_type": "code",
   "execution_count": 10,
   "metadata": {},
   "outputs": [],
   "source": [
    "def preprocess(df):\n",
    "    df.sex = df.sex.map({'М':1, 'Ж':0})\n",
    "\n",
    "    df.mutations = df.mutations.fillna('нет')\n",
    "    df.extra_m = df.extra_m.fillna('нет')\n",
    "\n",
    "    temp = df.columns\n",
    "    df = pd.DataFrame(np.where(np.array(df) == 'нет', np.nan, df))\n",
    "    df = pd.DataFrame(np.where(np.array(df) == 'Без лечения', np.nan, df))\n",
    "    df = pd.DataFrame(np.where(np.array(df) == '#ССЫЛКА!', np.nan, df))\n",
    "    df.columns = temp\n",
    "\n",
    "    df['intra_prog_ЛР'] = np.where(df['intra_prog'] >= 'ЛР', 1, 0)\n",
    "    df['intra_prog_ДМ'] = np.where(df['intra_prog'] > 'ЛР', 1, np.where(df['intra_prog'] < 'ЛР', 1, 0))\n",
    "    df = df.drop(columns=['intra_prog'])\n",
    "\n",
    "    df.mutations = df.mutations.map({'есть':1}).fillna(0)\n",
    "\n",
    "    df.ecog = df.ecog/100\n",
    "\n",
    "    df.extra_m = df.extra_m.map({'есть':1}).fillna(0)\n",
    "\n",
    "    df.max_volume = df.max_volume.map(lambda s: float(s.replace(',', '.')))\n",
    "    \n",
    "    df.fillna('unkn', inplace=True)\n",
    "    cc = ['sex', 'diag', 'mutations', 'treatment', 'ir_treatment']\n",
    "    for col in cc:\n",
    "        df[col] = df[col].astype('category').cat.codes\n",
    "    \n",
    "    date_cols = ['first_site', 'surg_date', 'rad_date']\n",
    "    \n",
    "    return df"
   ]
  },
  {
   "cell_type": "code",
   "execution_count": 11,
   "metadata": {},
   "outputs": [],
   "source": [
    "x_train = preprocess(x_train)\n",
    "x_test = preprocess(x_test)\n",
    "ap = preprocess(ap)"
   ]
  },
  {
   "cell_type": "code",
   "execution_count": 12,
   "metadata": {},
   "outputs": [],
   "source": [
    "def make_grad_fn(loss_fun = lambda y_pred, y_ref: T.mean((y_pred - y_ref) ** 2),\n",
    "                 hess_diag=True):\n",
    "\n",
    "    y_pred = T.dvector('predicted')\n",
    "    y_ref = T.dvector('reference')\n",
    "    \n",
    "    loss = loss_fun(y_pred, y_ref)\n",
    "    grad = T.grad(loss, y_pred)\n",
    "    if hess_diag:\n",
    "        def second_derivative_fun(y_pred, y_ref):\n",
    "            loss_i = loss_fun(y_pred, y_ref)\n",
    "            grad_i = T.grad(loss_i, y_pred)\n",
    "            hess_i = T.grad(grad_i, y_pred)\n",
    "            return hess_i\n",
    "        \n",
    "        hess = theano.map(second_derivative_fun, [y_pred, y_ref])[0]\n",
    "    else:        \n",
    "        hess = theano.gradient.hessian(loss, y_pred)\n",
    "    \n",
    "    return theano.function([y_pred, y_ref], [grad, hess])"
   ]
  },
  {
   "cell_type": "code",
   "execution_count": 13,
   "metadata": {},
   "outputs": [],
   "source": [
    "compute = make_grad_fn()"
   ]
  },
  {
   "cell_type": "code",
   "execution_count": 14,
   "metadata": {},
   "outputs": [],
   "source": [
    "class CustomObjective(object):\n",
    "    def calc_ders_range(self, approxes, targets, weights):\n",
    "        assert len(approxes) == len(targets)\n",
    "        if weights is not None:\n",
    "            assert len(weights) == len(approxes)\n",
    "        \n",
    "        if np.any(np.isnan(np.array(approxes))):\n",
    "            return list([(0, 1)]* len(approxes))\n",
    "                    \n",
    "        is_alive = has_dirt(np.array(targets))\n",
    "        y_clear = np.array(targets).round()\n",
    "        y_ref = np.where(is_alive,\n",
    "                     np.maximum(y_clear, approxes),\n",
    "                     y_clear\n",
    "                )\n",
    "        \n",
    "        res = compute(approxes, y_ref)\n",
    "        \n",
    "        with open('test.txt', 'a') as f:\n",
    "            f.write('NaNs in approxes: ' + str(np.any(np.isnan(np.array(approxes)))) + '\\n')\n",
    "            f.write('NaNs in targets: ' + str(np.any(np.isnan(np.array(targets)))) + '\\n')\n",
    "            f.write('NaNs in grads: ' + str(np.any(np.isnan(res[0]))) + '\\n')\n",
    "            f.write('NaNs in hesses: ' + str(np.any(np.isnan(res[1]))) + '\\n')\n",
    "            f.write('\\n')\n",
    "        \n",
    "        return list(totuple(np.stack(res, 1)))"
   ]
  },
  {
   "cell_type": "markdown",
   "metadata": {},
   "source": [
    "## Catboost"
   ]
  },
  {
   "cell_type": "code",
   "execution_count": 15,
   "metadata": {},
   "outputs": [],
   "source": [
    "ctrain = x_train.drop(columns=['birth_date', 'diag_date', 'first_site', 'bmd_date', 'rad_date', 'surg_date', 'gamma_date', 'last_exam', 'local_relapse', 'distant_m', 'death', 'time'])"
   ]
  },
  {
   "cell_type": "code",
   "execution_count": 16,
   "metadata": {},
   "outputs": [],
   "source": [
    "ctest = x_test.drop(columns=['birth_date', 'diag_date', 'first_site', 'bmd_date', 'rad_date', 'surg_date', 'gamma_date', 'local_relapse', 'distant_m'])"
   ]
  },
  {
   "cell_type": "code",
   "execution_count": 17,
   "metadata": {},
   "outputs": [],
   "source": [
    "cap = ap.drop(columns=['birth_date', 'diag_date', 'first_site', 'bmd_date', 'rad_date', 'surg_date', 'gamma_date', 'last_exam', 'local_relapse', 'distant_m', 'death', 'time'])"
   ]
  },
  {
   "cell_type": "code",
   "execution_count": 18,
   "metadata": {},
   "outputs": [],
   "source": [
    "train_all = pd.concat([ctrain, cap])"
   ]
  },
  {
   "cell_type": "code",
   "execution_count": 19,
   "metadata": {},
   "outputs": [],
   "source": [
    "y_all = np.concatenate([y_train.values[:,0], y_ap])"
   ]
  },
  {
   "cell_type": "code",
   "execution_count": 20,
   "metadata": {},
   "outputs": [],
   "source": [
    "x_tr, x_t, y_tr, y_t = train_test_split(train_all, y_all)"
   ]
  },
  {
   "cell_type": "code",
   "execution_count": null,
   "metadata": {},
   "outputs": [],
   "source": [
    "cbr = CatBoostRegressor(iterations=1000, loss_function=CustomObjective(), eval_metric='RMSE', use_best_model=True, od_type='Iter', od_wait=100, learning_rate=0.01)"
   ]
  },
  {
   "cell_type": "code",
   "execution_count": null,
   "metadata": {
    "scrolled": false
   },
   "outputs": [
    {
     "name": "stdout",
     "output_type": "stream",
     "text": [
      "0:\tlearn: 1150.0974773\ttest: 1100.6557448\tbest: 1100.6557448 (0)\ttotal: 476ms\tremaining: 7m 55s\n",
      "1:\tlearn: 1149.5713093\ttest: 1100.1934604\tbest: 1100.1934604 (1)\ttotal: 929ms\tremaining: 7m 43s\n",
      "2:\tlearn: 1149.1565743\ttest: 1099.7440793\tbest: 1099.7440793 (2)\ttotal: 1.33s\tremaining: 7m 21s\n",
      "3:\tlearn: 1148.6570229\ttest: 1099.2499144\tbest: 1099.2499144 (3)\ttotal: 1.88s\tremaining: 7m 46s\n",
      "4:\tlearn: 1148.2488745\ttest: 1098.8164073\tbest: 1098.8164073 (4)\ttotal: 2.32s\tremaining: 7m 42s\n",
      "5:\tlearn: 1147.7339028\ttest: 1098.2995901\tbest: 1098.2995901 (5)\ttotal: 2.73s\tremaining: 7m 32s\n",
      "6:\tlearn: 1147.2247733\ttest: 1097.7928034\tbest: 1097.7928034 (6)\ttotal: 3.08s\tremaining: 7m 17s\n",
      "7:\tlearn: 1146.7754244\ttest: 1097.3354773\tbest: 1097.3354773 (7)\ttotal: 3.43s\tremaining: 7m 5s\n",
      "8:\tlearn: 1145.7532084\ttest: 1096.8685907\tbest: 1096.8685907 (8)\ttotal: 3.83s\tremaining: 7m 2s\n",
      "9:\tlearn: 1145.3232781\ttest: 1096.4096037\tbest: 1096.4096037 (9)\ttotal: 4.24s\tremaining: 7m\n",
      "10:\tlearn: 1144.9534000\ttest: 1096.0214436\tbest: 1096.0214436 (10)\ttotal: 4.63s\tremaining: 6m 56s\n",
      "11:\tlearn: 1144.5497925\ttest: 1095.5952510\tbest: 1095.5952510 (11)\ttotal: 5.14s\tremaining: 7m 3s\n",
      "12:\tlearn: 1144.0508358\ttest: 1095.1606989\tbest: 1095.1606989 (12)\ttotal: 5.62s\tremaining: 7m 6s\n",
      "13:\tlearn: 1143.4619283\ttest: 1094.6336261\tbest: 1094.6336261 (13)\ttotal: 6.02s\tremaining: 7m 3s\n",
      "14:\tlearn: 1143.0648228\ttest: 1094.2128711\tbest: 1094.2128711 (14)\ttotal: 6.42s\tremaining: 7m 1s\n",
      "15:\tlearn: 1142.6532962\ttest: 1093.7594294\tbest: 1093.7594294 (15)\ttotal: 6.81s\tremaining: 6m 58s\n",
      "16:\tlearn: 1142.2549351\ttest: 1093.3289006\tbest: 1093.3289006 (16)\ttotal: 7.19s\tremaining: 6m 55s\n",
      "17:\tlearn: 1141.8727011\ttest: 1092.9150367\tbest: 1092.9150367 (17)\ttotal: 7.69s\tremaining: 6m 59s\n",
      "18:\tlearn: 1141.4336414\ttest: 1092.4687078\tbest: 1092.4687078 (18)\ttotal: 8.09s\tremaining: 6m 57s\n",
      "19:\tlearn: 1140.9803255\ttest: 1091.9735044\tbest: 1091.9735044 (19)\ttotal: 8.52s\tremaining: 6m 57s\n",
      "20:\tlearn: 1140.4240294\ttest: 1091.3644350\tbest: 1091.3644350 (20)\ttotal: 8.88s\tremaining: 6m 53s\n",
      "21:\tlearn: 1139.9103345\ttest: 1090.9078215\tbest: 1090.9078215 (21)\ttotal: 9.25s\tremaining: 6m 51s\n",
      "22:\tlearn: 1139.4740003\ttest: 1090.4783094\tbest: 1090.4783094 (22)\ttotal: 9.62s\tremaining: 6m 48s\n",
      "23:\tlearn: 1139.0704835\ttest: 1090.0586055\tbest: 1090.0586055 (23)\ttotal: 10.1s\tremaining: 6m 49s\n",
      "24:\tlearn: 1138.6423315\ttest: 1089.6062545\tbest: 1089.6062545 (24)\ttotal: 10.7s\tremaining: 6m 55s\n",
      "25:\tlearn: 1138.0893493\ttest: 1089.0853269\tbest: 1089.0853269 (25)\ttotal: 11.1s\tremaining: 6m 55s\n",
      "26:\tlearn: 1137.0299470\ttest: 1088.6204938\tbest: 1088.6204938 (26)\ttotal: 11.5s\tremaining: 6m 54s\n",
      "27:\tlearn: 1136.2824661\ttest: 1088.0625015\tbest: 1088.0625015 (27)\ttotal: 11.9s\tremaining: 6m 51s\n",
      "28:\tlearn: 1135.8301539\ttest: 1087.5867475\tbest: 1087.5867475 (28)\ttotal: 12.2s\tremaining: 6m 48s\n",
      "29:\tlearn: 1135.3405124\ttest: 1087.1207298\tbest: 1087.1207298 (29)\ttotal: 12.6s\tremaining: 6m 46s\n",
      "30:\tlearn: 1134.9316756\ttest: 1086.6773603\tbest: 1086.6773603 (30)\ttotal: 12.9s\tremaining: 6m 44s\n",
      "31:\tlearn: 1134.5495141\ttest: 1086.2653051\tbest: 1086.2653051 (31)\ttotal: 13.3s\tremaining: 6m 42s\n",
      "32:\tlearn: 1133.9852878\ttest: 1085.7701135\tbest: 1085.7701135 (32)\ttotal: 13.7s\tremaining: 6m 40s\n",
      "33:\tlearn: 1133.5360587\ttest: 1085.3183008\tbest: 1085.3183008 (33)\ttotal: 14.1s\tremaining: 6m 39s\n",
      "34:\tlearn: 1133.0271746\ttest: 1084.9005787\tbest: 1084.9005787 (34)\ttotal: 14.4s\tremaining: 6m 37s\n",
      "35:\tlearn: 1132.4117232\ttest: 1084.2044778\tbest: 1084.2044778 (35)\ttotal: 14.8s\tremaining: 6m 35s\n",
      "36:\tlearn: 1132.0099485\ttest: 1083.7943478\tbest: 1083.7943478 (36)\ttotal: 15.1s\tremaining: 6m 33s\n",
      "37:\tlearn: 1131.5371065\ttest: 1083.3149851\tbest: 1083.3149851 (37)\ttotal: 15.5s\tremaining: 6m 32s\n",
      "38:\tlearn: 1130.9622923\ttest: 1082.7884714\tbest: 1082.7884714 (38)\ttotal: 15.9s\tremaining: 6m 30s\n",
      "39:\tlearn: 1130.5413462\ttest: 1082.3887926\tbest: 1082.3887926 (39)\ttotal: 16.2s\tremaining: 6m 29s\n",
      "40:\tlearn: 1130.0826039\ttest: 1081.9183568\tbest: 1081.9183568 (40)\ttotal: 16.6s\tremaining: 6m 27s\n",
      "41:\tlearn: 1129.6228224\ttest: 1081.4569029\tbest: 1081.4569029 (41)\ttotal: 16.9s\tremaining: 6m 26s\n",
      "42:\tlearn: 1129.2049790\ttest: 1081.0114222\tbest: 1081.0114222 (42)\ttotal: 17.3s\tremaining: 6m 25s\n",
      "43:\tlearn: 1128.7397610\ttest: 1080.5166377\tbest: 1080.5166377 (43)\ttotal: 17.7s\tremaining: 6m 23s\n",
      "44:\tlearn: 1128.3121112\ttest: 1079.9975446\tbest: 1079.9975446 (44)\ttotal: 18s\tremaining: 6m 23s\n",
      "45:\tlearn: 1127.8632146\ttest: 1079.5660652\tbest: 1079.5660652 (45)\ttotal: 18.4s\tremaining: 6m 21s\n",
      "46:\tlearn: 1127.4700062\ttest: 1079.1633698\tbest: 1079.1633698 (46)\ttotal: 18.8s\tremaining: 6m 21s\n",
      "47:\tlearn: 1126.9534980\ttest: 1078.7096198\tbest: 1078.7096198 (47)\ttotal: 19.1s\tremaining: 6m 19s\n",
      "48:\tlearn: 1126.3798020\ttest: 1078.1264172\tbest: 1078.1264172 (48)\ttotal: 19.5s\tremaining: 6m 18s\n",
      "49:\tlearn: 1125.8584194\ttest: 1077.6431521\tbest: 1077.6431521 (49)\ttotal: 19.9s\tremaining: 6m 17s\n",
      "50:\tlearn: 1125.3970235\ttest: 1077.2484313\tbest: 1077.2484313 (50)\ttotal: 20.2s\tremaining: 6m 16s\n",
      "51:\tlearn: 1124.9417458\ttest: 1076.7977393\tbest: 1076.7977393 (51)\ttotal: 20.6s\tremaining: 6m 15s\n",
      "52:\tlearn: 1124.4733920\ttest: 1076.3402871\tbest: 1076.3402871 (52)\ttotal: 20.9s\tremaining: 6m 14s\n",
      "53:\tlearn: 1123.9957066\ttest: 1075.8806705\tbest: 1075.8806705 (53)\ttotal: 21.3s\tremaining: 6m 13s\n",
      "54:\tlearn: 1123.5098301\ttest: 1075.4178054\tbest: 1075.4178054 (54)\ttotal: 21.7s\tremaining: 6m 12s\n",
      "55:\tlearn: 1123.0957628\ttest: 1075.0326022\tbest: 1075.0326022 (55)\ttotal: 22s\tremaining: 6m 11s\n",
      "56:\tlearn: 1122.6345833\ttest: 1074.5603560\tbest: 1074.5603560 (56)\ttotal: 22.4s\tremaining: 6m 10s\n",
      "57:\tlearn: 1122.1748661\ttest: 1074.1178645\tbest: 1074.1178645 (57)\ttotal: 22.8s\tremaining: 6m 10s\n",
      "58:\tlearn: 1121.7140049\ttest: 1073.6620231\tbest: 1073.6620231 (58)\ttotal: 23.2s\tremaining: 6m 10s\n",
      "59:\tlearn: 1121.3779558\ttest: 1073.3100296\tbest: 1073.3100296 (59)\ttotal: 23.6s\tremaining: 6m 10s\n",
      "60:\tlearn: 1120.9064949\ttest: 1072.8614492\tbest: 1072.8614492 (60)\ttotal: 24.1s\tremaining: 6m 10s\n",
      "61:\tlearn: 1120.4354733\ttest: 1072.3807415\tbest: 1072.3807415 (61)\ttotal: 24.5s\tremaining: 6m 10s\n",
      "62:\tlearn: 1120.0120326\ttest: 1071.9415119\tbest: 1071.9415119 (62)\ttotal: 25.1s\tremaining: 6m 12s\n",
      "63:\tlearn: 1119.5796392\ttest: 1071.4791219\tbest: 1071.4791219 (63)\ttotal: 25.5s\tremaining: 6m 13s\n",
      "64:\tlearn: 1118.9932512\ttest: 1070.9756018\tbest: 1070.9756018 (64)\ttotal: 25.9s\tremaining: 6m 12s\n",
      "65:\tlearn: 1118.5605542\ttest: 1070.5359113\tbest: 1070.5359113 (65)\ttotal: 26.3s\tremaining: 6m 12s\n",
      "66:\tlearn: 1117.5859502\ttest: 1070.1350570\tbest: 1070.1350570 (66)\ttotal: 26.8s\tremaining: 6m 13s\n"
     ]
    }
   ],
   "source": [
    "cbr.fit(x_tr, y_tr, eval_set=(x_t, y_t))"
   ]
  },
  {
   "cell_type": "code",
   "execution_count": null,
   "metadata": {},
   "outputs": [],
   "source": [
    "fcbr = CatBoostRegressor(iterations=7, loss_function=CustomObjective(), eval_metric='R2')"
   ]
  },
  {
   "cell_type": "code",
   "execution_count": 21,
   "metadata": {},
   "outputs": [
    {
     "name": "stdout",
     "output_type": "stream",
     "text": [
      "0:\tlearn: 0.0000014\ttotal: 455ms\tremaining: 2.73s\n",
      "1:\tlearn: 0.0002588\ttotal: 835ms\tremaining: 2.09s\n",
      "2:\tlearn: 0.0004555\ttotal: 1.18s\tremaining: 1.57s\n",
      "3:\tlearn: 0.0019089\ttotal: 1.51s\tremaining: 1.13s\n",
      "4:\tlearn: 0.0009011\ttotal: 1.93s\tremaining: 773ms\n",
      "5:\tlearn: 0.0023002\ttotal: 2.27s\tremaining: 378ms\n",
      "6:\tlearn: 0.0030000\ttotal: 2.6s\tremaining: 0us\n"
     ]
    },
    {
     "data": {
      "text/plain": [
       "<catboost.core.CatBoostRegressor at 0x1179bf7b8>"
      ]
     },
     "execution_count": 21,
     "metadata": {},
     "output_type": "execute_result"
    }
   ],
   "source": [
    "fcbr.fit(ctrain, y_train)"
   ]
  },
  {
   "cell_type": "code",
   "execution_count": null,
   "metadata": {},
   "outputs": [],
   "source": []
  }
 ],
 "metadata": {
  "anaconda-cloud": {},
  "kernelspec": {
   "display_name": "Python [conda env:anaconda3]",
   "language": "python",
   "name": "conda-env-anaconda3-py"
  },
  "language_info": {
   "codemirror_mode": {
    "name": "ipython",
    "version": 3
   },
   "file_extension": ".py",
   "mimetype": "text/x-python",
   "name": "python",
   "nbconvert_exporter": "python",
   "pygments_lexer": "ipython3",
   "version": "3.5.4"
  }
 },
 "nbformat": 4,
 "nbformat_minor": 1
}
