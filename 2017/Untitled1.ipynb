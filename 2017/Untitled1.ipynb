{
 "cells": [
  {
   "cell_type": "code",
   "execution_count": 5,
   "metadata": {},
   "outputs": [],
   "source": [
    "import numpy as np\n",
    "import pandas as pd\n",
    "import re\n",
    "import pymorphy2\n",
    "import logging\n",
    "logging.basicConfig(format='%(asctime)s : %(levelname)s : %(message)s', level=logging.INFO)\n",
    "from stopwords import sw\n",
    "from sklearn.feature_extraction.text import TfidfVectorizer\n",
    "import matplotlib.pyplot as plt\n",
    "%matplotlib inline\n",
    "from sklearn.cluster import KMeans\n",
    "from sklearn.decomposition import PCA, LatentDirichletAllocation\n",
    "from sklearn.manifold import TSNE\n",
    "from sklearn.semi_supervised import LabelPropagation, LabelSpreading\n",
    "from collections import Counter\n",
    "from sklearn.ensemble import RandomForestClassifier, GradientBoostingClassifier\n",
    "from sklearn.linear_model import LogisticRegression\n",
    "from sklearn.model_selection import train_test_split\n",
    "from sklearn.metrics import accuracy_score\n",
    "from sklearn.naive_bayes import GaussianNB"
   ]
  },
  {
   "cell_type": "code",
   "execution_count": 6,
   "metadata": {},
   "outputs": [],
   "source": [
    "def preprocess_unlabeled_train(data):\n",
    "    data.columns = [\"sentence\", \"book\", \"author\"]\n",
    "    \n",
    "    morph = pymorphy2.MorphAnalyzer()\n",
    "    \n",
    "    stem_sentence = lambda x: list(map(lambda x: morph.parse(x)[0].normal_form, x))\n",
    "    lower_sentence = lambda x: list(map(lambda x: x.lower(), x))\n",
    "    \n",
    "    data.sentence = list(map(lambda x: re.sub(\"[\\?]\", \" ? \", x), data.sentence))\n",
    "    data.sentence = list(map(lambda x: re.sub(\"[\\!]\", \" ! \", x), data.sentence))\n",
    "    data.sentence = list(map(lambda x: re.sub(\"[^А-Яа-я\\!\\?]\", \" \", x), data.sentence))\n",
    "    data.sentence = list(map(lambda x: re.sub(\"[ё]\", \"е\", x), data.sentence))\n",
    "    data.sentence = list(map(lambda x: x.split(), data.sentence))\n",
    "    data.sentence = list(map(lower_sentence, data.sentence))\n",
    "    data.sentence = list(map(stem_sentence, data.sentence))\n",
    "    \n",
    "    why_cant_pd_drop_just_work_omg = data.pop(\"book\")\n",
    "    why_cant_pd_drop_just_work_omg = data.pop(\"author\")\n",
    "    \n",
    "    data[\"label\"] = np.zeros((data.shape[0], ), dtype=np.int8) - 1\n",
    "    \n",
    "    return data\n",
    "\n",
    "def preprocess_labeled(data):\n",
    "    morph = pymorphy2.MorphAnalyzer()\n",
    "    \n",
    "    stem_sentence = lambda x: list(map(lambda x: morph.parse(x)[0].normal_form, x))\n",
    "    lower_sentence = lambda x: list(map(lambda x: x.lower(), x))\n",
    "    \n",
    "    data.sentence = list(map(lambda x: re.sub(\"[\\?]\", \" ? \", x), data.sentence))\n",
    "    data.sentence = list(map(lambda x: re.sub(\"[\\!]\", \" ! \", x), data.sentence))\n",
    "    data.sentence = list(map(lambda x: re.sub(\"[^А-Яа-я\\?\\!]\", \" \", x), data.sentence))\n",
    "    data.sentence = list(map(lambda x: re.sub(\"[ё]\", \"е\", x), data.sentence))\n",
    "    data.sentence = list(map(lambda x: x.split(), data.sentence))\n",
    "    data.sentence = list(map(lower_sentence, data.sentence))\n",
    "    data.sentence = list(map(stem_sentence, data.sentence))\n",
    "    \n",
    "    label = lambda x: {'negative': 0, 'neutral': 1, 'positive': 2}.get(x)\n",
    "    data.label = list(map(label, data.label))\n",
    "    \n",
    "    return data\n",
    "\n",
    "def vectorize(data):\n",
    "    vocab = uvocab | lvocab | tvocab\n",
    "    model = TfidfVectorizer(vocabulary=vocab)\n",
    "    matrix = model.fit_transform(list(map(lambda x: \" \".join(x), data.sentence)))\n",
    "    return matrix.todense()\n",
    "\n",
    "def preprocess_unlabeled_test(data):\n",
    "    data.columns = [\"sentence\"]\n",
    "    \n",
    "    morph = pymorphy2.MorphAnalyzer()\n",
    "    \n",
    "    stem_sentence = lambda x: list(map(lambda x: morph.parse(x)[0].normal_form, x))\n",
    "    lower_sentence = lambda x: list(map(lambda x: x.lower(), x))\n",
    "    \n",
    "    data.sentence = list(map(lambda x: re.sub(\"[\\?]\", \" ? \", x), data.sentence))\n",
    "    data.sentence = list(map(lambda x: re.sub(\"[\\!]\", \" ! \", x), data.sentence))\n",
    "    data.sentence = list(map(lambda x: re.sub(\"[^А-Яа-я\\!\\?]\", \" \", x), data.sentence))\n",
    "    data.sentence = list(map(lambda x: re.sub(\"[ё]\", \"е\", x), data.sentence))\n",
    "    data.sentence = list(map(lambda x: x.split(), data.sentence))\n",
    "    data.sentence = list(map(lower_sentence, data.sentence))\n",
    "    data.sentence = list(map(stem_sentence, data.sentence))\n",
    "    \n",
    "    data[\"label\"] = np.zeros((data.shape[0], ), dtype=np.int8) - 1\n",
    "    \n",
    "    return data\n",
    "\n",
    "def make_csv(cluster_ids):\n",
    "    unlabel = lambda x: {0: 'negative', 1: 'neutral', 2: 'positive'}.get(x)\n",
    "    pred = pd.DataFrame(list(map(unlabel, cluster_ids)), columns=[\"label\"])\n",
    "    #pred[\"label\"] = list(map(lambda x: \"\\\"\" + x + \"\\\"\", pred[\"label\"]))\n",
    "    pred.to_csv(\"answer.csv\", index=False)\n",
    "\n",
    "def vectorize_w2v(data):\n",
    "    matrix = []\n",
    "    for doc in data.sentence:\n",
    "        docvec = []\n",
    "        for word in doc:\n",
    "            try:\n",
    "                docvec.append(word_vectors[word])\n",
    "            except KeyError:\n",
    "                pass\n",
    "        if docvec:\n",
    "            docvec = np.mean(docvec, axis=0)\n",
    "        else:\n",
    "            docvec = np.zeros((300,))\n",
    "        matrix.append(docvec)\n",
    "    return np.array(matrix)"
   ]
  },
  {
   "cell_type": "code",
   "execution_count": 9,
   "metadata": {},
   "outputs": [],
   "source": [
    "data_unlabeled = pd.read_csv(\"sentences.csv\")\n",
    "data_labeled = pd.read_excel(\"labeled_sentences.xlsx\")\n",
    "data_test = pd.read_csv(\"/Users/alexajax/Downloads/dataset_38921_3.txt\")"
   ]
  },
  {
   "cell_type": "code",
   "execution_count": 10,
   "metadata": {},
   "outputs": [
    {
     "data": {
      "text/html": [
       "<div>\n",
       "<style scoped>\n",
       "    .dataframe tbody tr th:only-of-type {\n",
       "        vertical-align: middle;\n",
       "    }\n",
       "\n",
       "    .dataframe tbody tr th {\n",
       "        vertical-align: top;\n",
       "    }\n",
       "\n",
       "    .dataframe thead th {\n",
       "        text-align: right;\n",
       "    }\n",
       "</style>\n",
       "<table border=\"1\" class=\"dataframe\">\n",
       "  <thead>\n",
       "    <tr style=\"text-align: right;\">\n",
       "      <th></th>\n",
       "      <th>Предложение</th>\n",
       "      <th>Название произведения</th>\n",
       "      <th>Номер автора</th>\n",
       "    </tr>\n",
       "  </thead>\n",
       "  <tbody>\n",
       "    <tr>\n",
       "      <th>0</th>\n",
       "      <td>﻿– Так ты приходи!</td>\n",
       "      <td>Гостинец</td>\n",
       "      <td>0</td>\n",
       "    </tr>\n",
       "    <tr>\n",
       "      <th>1</th>\n",
       "      <td>– в третий раз попросил Сениста, и в третий ра...</td>\n",
       "      <td>Гостинец</td>\n",
       "      <td>0</td>\n",
       "    </tr>\n",
       "    <tr>\n",
       "      <th>2</th>\n",
       "      <td>Еще бы не прийти, конечно прийду.</td>\n",
       "      <td>Гостинец</td>\n",
       "      <td>0</td>\n",
       "    </tr>\n",
       "    <tr>\n",
       "      <th>3</th>\n",
       "      <td>И снова они замолчали.</td>\n",
       "      <td>Гостинец</td>\n",
       "      <td>0</td>\n",
       "    </tr>\n",
       "    <tr>\n",
       "      <th>4</th>\n",
       "      <td>Сениста лежал на спине, до подбородка укрытый ...</td>\n",
       "      <td>Гостинец</td>\n",
       "      <td>0</td>\n",
       "    </tr>\n",
       "    <tr>\n",
       "      <th>...</th>\n",
       "      <td>...</td>\n",
       "      <td>...</td>\n",
       "      <td>...</td>\n",
       "    </tr>\n",
       "    <tr>\n",
       "      <th>2992</th>\n",
       "      <td>Он представляет себе тоненькую фигуру Нины с д...</td>\n",
       "      <td>Весенний ветер</td>\n",
       "      <td>19</td>\n",
       "    </tr>\n",
       "    <tr>\n",
       "      <th>2993</th>\n",
       "      <td>Он видит даже, как встряхивает она головкой, и...</td>\n",
       "      <td>Весенний ветер</td>\n",
       "      <td>19</td>\n",
       "    </tr>\n",
       "    <tr>\n",
       "      <th>2994</th>\n",
       "      <td>Пышные небывающие розы протягивают ему букеты,...</td>\n",
       "      <td>Весенний ветер</td>\n",
       "      <td>19</td>\n",
       "    </tr>\n",
       "    <tr>\n",
       "      <th>2995</th>\n",
       "      <td>Колышащиеся связки шаров гибко выгибаются к не...</td>\n",
       "      <td>Весенний ветер</td>\n",
       "      <td>19</td>\n",
       "    </tr>\n",
       "    <tr>\n",
       "      <th>2996</th>\n",
       "      <td>– Животрепя-щие бабочки!..</td>\n",
       "      <td>Весенний ветер</td>\n",
       "      <td>19</td>\n",
       "    </tr>\n",
       "  </tbody>\n",
       "</table>\n",
       "<p>2997 rows × 3 columns</p>\n",
       "</div>"
      ],
      "text/plain": [
       "                                            Предложение Название произведения  \\\n",
       "0                                    ﻿– Так ты приходи!              Гостинец   \n",
       "1     – в третий раз попросил Сениста, и в третий ра...              Гостинец   \n",
       "2                     Еще бы не прийти, конечно прийду.              Гостинец   \n",
       "3                                И снова они замолчали.              Гостинец   \n",
       "4     Сениста лежал на спине, до подбородка укрытый ...              Гостинец   \n",
       "...                                                 ...                   ...   \n",
       "2992  Он представляет себе тоненькую фигуру Нины с д...        Весенний ветер   \n",
       "2993  Он видит даже, как встряхивает она головкой, и...        Весенний ветер   \n",
       "2994  Пышные небывающие розы протягивают ему букеты,...        Весенний ветер   \n",
       "2995  Колышащиеся связки шаров гибко выгибаются к не...        Весенний ветер   \n",
       "2996                         – Животрепя-щие бабочки!..        Весенний ветер   \n",
       "\n",
       "      Номер автора  \n",
       "0                0  \n",
       "1                0  \n",
       "2                0  \n",
       "3                0  \n",
       "4                0  \n",
       "...            ...  \n",
       "2992            19  \n",
       "2993            19  \n",
       "2994            19  \n",
       "2995            19  \n",
       "2996            19  \n",
       "\n",
       "[2997 rows x 3 columns]"
      ]
     },
     "execution_count": 10,
     "metadata": {},
     "output_type": "execute_result"
    }
   ],
   "source": [
    "data_unlabeled"
   ]
  },
  {
   "cell_type": "code",
   "execution_count": 8,
   "metadata": {},
   "outputs": [
    {
     "name": "stderr",
     "output_type": "stream",
     "text": [
      "2021-04-11 14:31:06,162 : INFO : Loading dictionaries from /Users/alexajax/anaconda3/lib/python3.8/site-packages/pymorphy2_dicts_ru/data\n",
      "2021-04-11 14:31:06,206 : INFO : format: 2.4, revision: 417127, updated: 2020-10-11T15:05:51.070345\n",
      "2021-04-11 14:31:18,851 : INFO : Loading dictionaries from /Users/alexajax/anaconda3/lib/python3.8/site-packages/pymorphy2_dicts_ru/data\n",
      "2021-04-11 14:31:18,896 : INFO : format: 2.4, revision: 417127, updated: 2020-10-11T15:05:51.070345\n",
      "2021-04-11 14:31:21,340 : INFO : Loading dictionaries from /Users/alexajax/anaconda3/lib/python3.8/site-packages/pymorphy2_dicts_ru/data\n",
      "2021-04-11 14:31:21,379 : INFO : format: 2.4, revision: 417127, updated: 2020-10-11T15:05:51.070345\n"
     ]
    }
   ],
   "source": [
    "data_unlabeled = preprocess_unlabeled_train(data_unlabeled)\n",
    "data_labeled = preprocess_labeled(data_labeled)\n",
    "data_test = preprocess_unlabeled_test(data_test)"
   ]
  },
  {
   "cell_type": "code",
   "execution_count": 135,
   "metadata": {
    "scrolled": true
   },
   "outputs": [
    {
     "name": "stdout",
     "output_type": "stream",
     "text": [
      "0\n",
      "[('носов', 1.0), ('озоровать', 1.0), ('вор', 1.0), ('постоять', 1.0), ('через', 1.0), ('колодезь', 1.0), ('писаться', 1.0), ('заводиться', 1.0), ('сечь', 1.0), ('лопотать', 1.0), ('слушай', 1.0), ('пыльный', 1.0), ('ребятишки', 1.0), ('морщиться', 1.0), ('отравить', 1.0), ('живо', 1.0), ('сырость', 1.0), ('стыдиться', 1.0), ('первостепенный', 1.0), ('вскипеть', 1.0), ('воспоминание', 1.0), ('волей', 1.0), ('иль', 1.0), ('ак', 1.0), ('болтун', 1.0), ('лаять', 1.0), ('похоронить', 1.0), ('индианка', 1.0), ('напустить', 1.0), ('дурачина', 1.0), ('скука', 1.0), ('притворяться', 1.0), ('тьфу', 1.0), ('голов', 1.0), ('отвалять', 1.0), ('скотский', 1.0), ('пропивать', 1.0), ('грие', 1.0), ('таинственно', 1.0), ('интерес', 1.0), ('ище', 1.0), ('соскочить', 1.0), ('шалить', 1.0), ('клясться', 1.0), ('злодей', 1.0), ('надеть', 1.0), ('долой', 1.0), ('посудить', 1.0), ('слышаться', 1.0), ('де', 1.0), ('ползать', 1.0), ('гардероб', 1.0), ('алка', 1.0), ('фу', 1.0), ('тоня', 1.0), ('проклятый', 1.0), ('пакость', 1.0), ('висеть', 1.0), ('молвить', 1.0), ('говаривать', 1.0), ('враг', 1.0), ('грязный', 1.0), ('предание', 1.0), ('высохнуть', 1.0), ('проворчать', 1.0), ('воевать', 1.0), ('соврать', 1.0), ('скалка', 1.0), ('одеяло', 1.0), ('зуб', 1.0), ('ботинок', 1.0), ('каша', 1.0), ('генеральский', 1.0), ('призрак', 1.0), ('мышьяк', 1.0), ('зверь', 1.0), ('древность', 1.0), ('корыто', 1.0), ('зелёный', 1.0), ('хлопотать', 1.0), ('выздоровить', 1.0), ('везде', 1.0), ('обман', 1.0), ('баронесса', 1.0), ('горесть', 1.0), ('разврат', 1.0), ('шут', 1.0), ('систематически', 1.0), ('предрассудок', 1.0), ('подлец', 1.0), ('старость', 1.0), ('горемычный', 1.0), ('душный', 1.0), ('нравственно', 1.0), ('полтораста', 1.0), ('пёс', 1.0), ('стрелять', 1.0), ('поросёнок', 1.0), ('скверный', 1.0), ('человеческий', 1.0), ('запрошлый', 1.0), ('впрямь', 1.0), ('кощунствовать', 1.0), ('колотить', 1.0), ('мерзавец', 1.0), ('труп', 1.0), ('окаянный', 1.0), ('тиша', 1.0), ('проучить', 1.0), ('кнут', 1.0), ('лазарь', 1.0), ('выбирать', 1.0), ('кшш', 1.0), ('неисправимый', 1.0), ('пропадать', 1.0), ('обыкновение', 1.0), ('погуливать', 1.0), ('смерть', 1.0), ('анафема', 1.0), ('страшный', 1.0), ('пострел', 1.0), ('смех', 1.0), ('сальный', 1.0), ('мочить', 1.0), ('мальчик', 1.0), ('пахнуть', 1.0), ('кикимора', 1.0), ('угодить', 1.0), ('мести', 1.0), ('угол', 1.0), ('дождев', 1.0), ('схватить', 1.0), ('цвета', 1.0), ('тоска', 1.0), ('народ', 1.0), ('польза', 1.0), ('ужасно', 1.0), ('раздражить', 1.0), ('уборка', 1.0), ('вонький', 1.0), ('желание', 1.0), ('ежели', 1.0), ('мимо', 1.0), ('грязь', 1.0), ('кура', 1.0), ('важность', 1.0), ('молокосос', 1.0), ('вздор', 1.0), ('велеса', 1.0), ('святотатство', 1.0), ('вполголоса', 1.0), ('хныкать', 1.0), ('чистота', 1.0), ('насчёт', 1.0), ('шельма', 1.0), ('терять', 1.0), ('девчонка', 1.0), ('худой', 1.0), ('всяк', 1.0), ('подавиться', 1.0), ('разбранить', 1.0), ('леший', 1.0), ('собака', 1.0), ('замешаться', 1.0), ('дожить', 1.0), ('спустить', 1.0), ('штаны', 1.0), ('зарезать', 1.0), ('отсохнуть', 1.0), ('приблудный', 1.0), ('упреждать', 1.0), ('фомка', 1.0), ('ска', 1.0), ('ненавидеть', 1.0), ('разговаривать', 1.0), ('ужас', 1.0), ('уставить', 1.0), ('бесстыдник', 1.0), ('фью', 1.0), ('жалкий', 1.0), ('намеренный', 1.0), ('наймилый', 1.0), ('покупать', 1.0), ('злой', 1.0), ('ночью', 1.0), ('поколотить', 1.0), ('ай', 1.0), ('мсьё', 1.0), ('плевать', 1.0), ('напроказить', 1.0), ('поутру', 1.0), ('нона', 1.0), ('век', 1.0), ('чрево', 1.0), ('силой', 1.0), ('разбойничать', 1.0), ('морда', 1.0), ('барабанный', 1.0), ('пригореть', 1.0), ('унять', 1.0)]\n",
      "1\n",
      "[('шляпка', 1.0), ('четыре', 1.0), ('зайти', 1.0), ('покурить', 1.0), ('сыч', 1.0), ('церемония', 1.0), ('ер', 1.0), ('падчерица', 1.0), ('уставясь', 1.0), ('равнодушно', 1.0), ('глядеть', 1.0), ('неудобно', 1.0), ('эк', 1.0), ('угодный', 1.0), ('полый', 1.0), ('сабля', 1.0), ('нездоровый', 1.0), ('мудрец', 1.0), ('многие', 1.0), ('ан', 1.0), ('назначить', 1.0), ('ух', 1.0), ('никто', 1.0), ('лишний', 1.0), ('дон', 1.0), ('самолично', 1.0), ('милосливый', 1.0), ('вдобавок', 1.0), ('ничуть', 1.0), ('персиковый', 1.0), ('работать', 1.0), ('сжать', 1.0), ('вспоминать', 1.0), ('кошевой', 1.0), ('акакий', 1.0), ('надуматься', 1.0), ('натура', 1.0), ('швейцария', 1.0), ('повесть', 1.0), ('чувствовать', 1.0), ('обнаружить', 1.0), ('игнатий', 1.0), ('полка', 1.0), ('привыкнуть', 1.0), ('ходить', 1.0), ('непривычка', 1.0), ('обладатель', 1.0), ('чисто', 1.0), ('вправе', 1.0), ('умоляющий', 1.0), ('усердно', 1.0), ('расставаться', 1.0), ('нестерпимый', 1.0), ('выпускать', 1.0), ('раздумывать', 1.0), ('кусаться', 1.0), ('накормить', 1.0), ('бук', 1.0), ('спать', 1.0), ('поговорить', 1.0), ('указать', 1.0), ('фамильярно', 1.0), ('пить', 1.0), ('выносить', 1.0), ('поштый', 1.0), ('подпись', 1.0), ('получение', 1.0), ('комбинация', 1.0), ('новопоступить', 1.0), ('вынести', 1.0), ('прибавлять', 1.0), ('молчание', 1.0), ('раскольников', 1.0), ('попросить', 1.0), ('высмотреть', 1.0), ('книжный', 1.0), ('топнуть', 1.0), ('доля', 1.0), ('снисходительно', 1.0), ('прерывать', 1.0), ('содом', 1.0), ('хутор', 1.0), ('обливаться', 1.0), ('весёлость', 1.0), ('сосед', 1.0), ('чулочек', 1.0), ('услыхать', 1.0), ('счастие', 1.0), ('тёмный', 1.0), ('молоканка', 1.0), ('настойчивый', 1.0), ('остаться', 1.0), ('ален', 1.0), ('беззаботный', 1.0), ('коробка', 1.0), ('кормить', 1.0), ('владимир', 1.0), ('простой', 1.0), ('всматриваться', 1.0), ('широкий', 1.0), ('отучить', 1.0), ('опускать', 1.0), ('кинжал', 1.0), ('маленькая', 1.0), ('драка', 1.0), ('жев', 1.0), ('отворять', 1.0), ('поразительный', 1.0), ('особо', 1.0), ('шляпа', 1.0), ('сестрица', 1.0), ('видно', 1.0), ('позадолжаться', 1.0), ('пышный', 1.0), ('вечером', 1.0), ('именно', 1.0), ('полотно', 1.0), ('собрать', 1.0), ('основание', 1.0), ('сзади', 1.0), ('состояние', 1.0), ('задыхаться', 1.0), ('почесть', 1.0), ('кригер', 1.0), ('горсточка', 1.0), ('мышей', 1.0), ('волос', 1.0), ('загуляй', 1.0), ('паша', 1.0), ('тёплый', 1.0), ('значительно', 1.0), ('башмак', 1.0), ('значение', 1.0), ('удачный', 1.0), ('перевести', 1.0), ('ямщик', 1.0), ('бетховен', 1.0), ('мейн', 1.0), ('духовный', 1.0), ('пословица', 1.0), ('перво', 1.0), ('молодёжь', 1.0), ('ет', 1.0), ('родиться', 1.0), ('перед', 1.0), ('наконец', 1.0), ('право', 1.0), ('вновь', 1.0), ('дворник', 1.0), ('проситься', 1.0), ('знаться', 1.0), ('внимательно', 1.0), ('ной', 1.0), ('покачивать', 1.0), ('разъезд', 1.0), ('двинуть', 1.0), ('трус', 1.0), ('вверх', 1.0), ('побить', 1.0), ('стонать', 1.0), ('троица', 1.0), ('москва', 1.0), ('мах', 1.0), ('сдача', 1.0), ('подтянуть', 1.0), ('пила', 1.0), ('поляк', 1.0), ('цель', 1.0), ('помирать', 1.0), ('против', 1.0), ('выше', 1.0), ('внушить', 1.0), ('найти', 1.0), ('торговля', 1.0), ('щёлка', 1.0), ('карта', 1.0), ('удивлять', 1.0), ('надежда', 1.0), ('выпрашивать', 1.0), ('напроситься', 1.0), ('ларион', 1.0), ('вздох', 1.0), ('франц', 1.0), ('грёза', 1.0), ('высказать', 1.0), ('удостоверить', 1.0), ('входить', 1.0), ('волков', 1.0), ('случаться', 1.0), ('поэт', 1.0), ('умыться', 1.0), ('незачем', 1.0), ('епанчина', 1.0), ('убивать', 1.0), ('писать', 1.0), ('засмеяться', 1.0), ('замедлить', 1.0), ('гнев', 1.0), ('карьер', 1.0), ('лидий', 1.0)]\n",
      "2\n",
      "[('письменный', 1.0), ('согреть', 1.0), ('душенька', 1.0), ('истина', 1.0), ('упрёк', 1.0), ('решиться', 1.0), ('соловей', 1.0), ('дружески', 1.0), ('голубчик', 1.0), ('рогожин', 1.0), ('перо', 1.0), ('занятой', 1.0), ('удивляться', 1.0), ('славно', 1.0), ('гробовой', 1.0), ('отличный', 1.0), ('передать', 1.0), ('неподвижный', 1.0), ('весёлый', 1.0), ('забывать', 1.0), ('евсей', 1.0), ('доказать', 1.0), ('бал', 1.0), ('просмотреть', 1.0), ('мотя', 1.0), ('изумить', 1.0), ('сиятельство', 1.0), ('превосходный', 1.0), ('раскрасавица', 1.0), ('карандаш', 1.0), ('радостно', 1.0), ('рад', 1.0), ('благо', 1.0), ('арбуз', 1.0), ('изображать', 1.0), ('удостоивать', 1.0), ('благословлять', 1.0), ('порка', 1.0), ('самоварчик', 1.0), ('ценить', 1.0), ('полюбить', 1.0), ('открыть', 1.0), ('чрезвычайно', 1.0), ('достать', 1.0), ('устать', 1.0), ('кипеть', 1.0), ('плач', 1.0), ('помилосердствовать', 1.0), ('нарисовать', 1.0), ('нил', 1.0), ('евсеюшка', 1.0), ('благословить', 1.0), ('упрекать', 1.0), ('рассказывать', 1.0), ('опиум', 1.0), ('наслаждаться', 1.0), ('добродушно', 1.0), ('рассказ', 1.0), ('россия', 1.0), ('няня', 1.0), ('страстно', 1.0), ('прощание', 1.0), ('великий', 1.0), ('предмет', 1.0), ('бесценный', 1.0), ('превосходно', 1.0), ('бедность', 1.0), ('понятно', 1.0), ('блаженство', 1.0), ('морозный', 1.0), ('корабль', 1.0), ('вокруг', 1.0), ('роза', 1.0), ('отужинать', 1.0), ('покорно', 1.0), ('нектар', 1.0), ('плотный', 1.0), ('носить', 1.0), ('казаться', 1.0), ('святость', 1.0), ('встреча', 1.0), ('приклонить', 1.0), ('поклон', 1.0), ('спасибо', 1.0), ('снизойти', 1.0), ('упрекнуть', 1.0), ('красавица', 1.0), ('амброзия', 1.0), ('поддакнуть', 1.0), ('сутки', 1.0), ('наградить', 1.0), ('попасть', 1.0), ('удивительно', 1.0), ('любимый', 1.0), ('доска', 1.0), ('малин', 1.0), ('олимпийский', 1.0), ('славный', 1.0), ('невеста', 1.0), ('добродетель', 1.0), ('увлекаться', 1.0), ('кадочка', 1.0), ('гордость', 1.0), ('земной', 1.0), ('торжественностие', 1.0), ('вкушать', 1.0), ('рисковать', 1.0), ('мила', 1.0), ('ненаглядный', 1.0), ('принадлежность', 1.0), ('подписать', 1.0), ('смешной', 1.0), ('ложиться', 1.0), ('папенька', 1.0), ('добрый', 0.8333333333333334), ('благодарить', 0.8), ('выпить', 0.75), ('здоровье', 0.75), ('познакомиться', 0.6666666666666666), ('улыбка', 0.6666666666666666), ('ненький', 0.6666666666666666), ('спешить', 0.6666666666666666), ('хорошо', 0.6190476190476191), ('любовь', 0.6), ('друг', 0.6), ('весело', 0.6), ('слава', 0.6), ('пожалуйста', 0.5454545454545454), ('привезти', 0.5), ('ларь', 0.5), ('утро', 0.5), ('матушка', 0.5), ('трудиться', 0.5), ('сей', 0.5), ('наслаждение', 0.5), ('голубушка', 0.5), ('опоздать', 0.5), ('здоровый', 0.5), ('выходить', 0.5), ('мешок', 0.5), ('айда', 0.5), ('игнат', 0.5), ('двор', 0.5), ('молодец', 0.5), ('сушёный', 0.5), ('дядюшка', 0.5), ('отправиться', 0.5), ('поехать', 0.5), ('горький', 0.5), ('воображать', 0.5), ('правый', 0.5), ('почерк', 0.5), ('мир', 0.5), ('простить', 0.5), ('существовать', 0.5), ('сынок', 0.5), ('остановиться', 0.5), ('гулять', 0.5), ('бумага', 0.5), ('приятно', 0.5), ('прекрасно', 0.5), ('малый', 0.5), ('согласный', 0.5), ('герой', 0.5), ('природа', 0.5), ('пелагея', 0.5), ('болтовня', 0.5), ('мотька', 0.5), ('веровать', 0.5), ('дорого', 0.5), ('смертный', 0.5), ('грешный', 0.5), ('удовольствие', 0.5), ('тотчас', 0.5), ('всегда', 0.5), ('тётка', 0.5), ('поступить', 0.5), ('мёд', 0.5), ('ночь', 0.5), ('двигаться', 0.5), ('любить', 0.47058823529411764), ('дитя', 0.4), ('тем', 0.4), ('илья', 0.4), ('поди', 0.4), ('здравствовать', 0.375), ('милостивый', 0.375), ('кой', 0.3333333333333333), ('пятнадцать', 0.3333333333333333), ('блистать', 0.3333333333333333), ('служба', 0.3333333333333333), ('часто', 0.3333333333333333), ('показать', 0.3333333333333333), ('молиться', 0.3333333333333333), ('очень', 0.3333333333333333), ('папаша', 0.3333333333333333), ('улыбаться', 0.3333333333333333), ('проснуться', 0.3333333333333333), ('помолчать', 0.3333333333333333), ('жена', 0.3333333333333333)]\n"
     ]
    }
   ],
   "source": [
    "gb = data_labeled.groupby(\"label\")\n",
    "\n",
    "idf_counts = Counter()\n",
    "for row in data_labeled.itertuples():\n",
    "    idf_counts.update(row.sentence)\n",
    "        \n",
    "for group in gb.groups:\n",
    "    print (group)\n",
    "    \n",
    "    counts = Counter()\n",
    "    for row in gb.get_group(group).itertuples():\n",
    "        counts.update(row.sentence)\n",
    "    \n",
    "    for k,v in counts.items():\n",
    "        counts[k] =  v / (idf_counts[k])\n",
    "    \n",
    "    print (counts.most_common(200))"
   ]
  },
  {
   "cell_type": "code",
   "execution_count": null,
   "metadata": {
    "collapsed": true
   },
   "outputs": [],
   "source": []
  },
  {
   "cell_type": "code",
   "execution_count": null,
   "metadata": {
    "collapsed": true
   },
   "outputs": [],
   "source": []
  },
  {
   "cell_type": "code",
   "execution_count": 264,
   "metadata": {
    "collapsed": true
   },
   "outputs": [],
   "source": [
    "Y = data_labeled.pop(\"label\")"
   ]
  },
  {
   "cell_type": "code",
   "execution_count": 265,
   "metadata": {
    "collapsed": true
   },
   "outputs": [],
   "source": [
    "umodel = TfidfVectorizer()\n",
    "umatrix = umodel.fit_transform(list(map(lambda x: \" \".join(x), data_unlabeled.sentence)))\n",
    "uvocab = set(umodel.vocabulary_.keys())\n",
    "\n",
    "lmodel = TfidfVectorizer()\n",
    "lmatrix = lmodel.fit_transform(list(map(lambda x: \" \".join(x), data_labeled.sentence)))\n",
    "lvocab = set(lmodel.vocabulary_.keys())\n",
    "\n",
    "tmodel = TfidfVectorizer()\n",
    "tmatrix = tmodel.fit_transform(list(map(lambda x: \" \".join(x), data_test.sentence)))\n",
    "tvocab = set(tmodel.vocabulary_.keys())"
   ]
  },
  {
   "cell_type": "code",
   "execution_count": 266,
   "metadata": {
    "collapsed": true
   },
   "outputs": [],
   "source": [
    "labeled_matrix = vectorize(data_labeled)\n",
    "unlabeled_matrix = vectorize(data_unlabeled)\n",
    "test_matrix = vectorize(data_test)"
   ]
  },
  {
   "cell_type": "code",
   "execution_count": 152,
   "metadata": {},
   "outputs": [],
   "source": [
    "pca = PCA(n_components=200).fit(np.concatenate([labeled_matrix,unlabeled_matrix,test_matrix]))\n",
    "\n",
    "lmc = pca.transform(labeled_matrix)\n",
    "tmc = pca.transform(test_matrix)"
   ]
  },
  {
   "cell_type": "code",
   "execution_count": 165,
   "metadata": {
    "collapsed": true
   },
   "outputs": [],
   "source": [
    "tmc = pca.transform(test_matrix)"
   ]
  },
  {
   "cell_type": "code",
   "execution_count": 267,
   "metadata": {},
   "outputs": [
    {
     "data": {
      "text/plain": [
       "Counter({0: 260, 1: 1475, 2: 130})"
      ]
     },
     "execution_count": 267,
     "metadata": {},
     "output_type": "execute_result"
    }
   ],
   "source": [
    "Counter(Y)"
   ]
  },
  {
   "cell_type": "code",
   "execution_count": 170,
   "metadata": {
    "collapsed": true
   },
   "outputs": [],
   "source": [
    "#X_train, X_test, Y_train, Y_test = train_test_split(lmc, Y, test_size=0.3, random_state=42)"
   ]
  },
  {
   "cell_type": "markdown",
   "metadata": {},
   "source": [
    "## Random Forest"
   ]
  },
  {
   "cell_type": "code",
   "execution_count": 268,
   "metadata": {},
   "outputs": [
    {
     "name": "stdout",
     "output_type": "stream",
     "text": [
      "CPU times: user 19min 31s, sys: 9.86 s, total: 19min 40s\n",
      "Wall time: 2min 46s\n"
     ]
    },
    {
     "data": {
      "text/plain": [
       "RandomForestClassifier(bootstrap=True, class_weight=None, criterion='gini',\n",
       "            max_depth=None, max_features='auto', max_leaf_nodes=None,\n",
       "            min_impurity_split=1e-07, min_samples_leaf=1,\n",
       "            min_samples_split=2, min_weight_fraction_leaf=0.0,\n",
       "            n_estimators=3000, n_jobs=-1, oob_score=False,\n",
       "            random_state=None, verbose=0, warm_start=False)"
      ]
     },
     "execution_count": 268,
     "metadata": {},
     "output_type": "execute_result"
    }
   ],
   "source": [
    "rf = RandomForestClassifier(n_estimators=3000, n_jobs=-1)\n",
    "%time rf.fit(labeled_matrix, Y)"
   ]
  },
  {
   "cell_type": "code",
   "execution_count": 269,
   "metadata": {
    "scrolled": true
   },
   "outputs": [],
   "source": [
    "rf_cluster_ids = rf.predict(test_matrix)"
   ]
  },
  {
   "cell_type": "code",
   "execution_count": 270,
   "metadata": {
    "scrolled": true
   },
   "outputs": [
    {
     "data": {
      "text/plain": [
       "array([1, 1, 1, 1, 1, 1, 1, 1, 1, 1, 1, 1, 1, 1, 1, 1, 1, 1, 1, 1, 1, 1, 1,\n",
       "       1, 1, 1, 1, 1, 1, 2, 1, 1, 1, 0, 1, 1, 1, 1, 1, 1, 1, 1, 1, 1, 1, 1,\n",
       "       1, 1, 1, 1, 1, 1, 1, 1, 1, 1, 1, 1, 1, 1, 1, 1, 1, 1, 0, 1, 1, 1, 1,\n",
       "       1, 1, 1, 1, 1, 1, 1, 1, 1, 1, 1, 1, 1, 1, 1, 1, 1, 1, 1, 1, 1, 1, 1,\n",
       "       1, 1, 1, 1, 1, 1, 2, 1, 1, 1, 1, 1, 1, 1, 1, 1, 1, 1, 1, 1, 1, 1, 1,\n",
       "       1, 1, 1, 1, 1, 2, 1, 1, 1, 1, 1, 1, 1, 1, 1, 0, 1, 1, 1, 1, 1, 1, 1,\n",
       "       1, 1, 1, 1, 1, 1, 1, 1, 1, 1, 1, 1, 0, 1, 1, 1, 1, 1, 1, 1, 1, 1, 1,\n",
       "       1, 1, 1, 1, 1, 1, 1, 1, 1, 1, 1, 1, 1, 1, 1, 1, 1, 1, 1, 1, 1, 1, 1,\n",
       "       1, 1, 1, 1, 1, 1, 1, 1, 1, 1, 1, 1, 1, 1, 1, 1, 1, 1, 1, 1, 1, 1, 1,\n",
       "       1, 1, 1, 1, 1, 1, 1, 1, 1, 1, 1, 1, 0, 1, 1, 1, 1, 1, 1, 1, 1, 1, 1,\n",
       "       1, 1, 1, 1, 1, 1, 1, 1, 1, 1, 1, 1, 1, 1, 1, 1, 1, 1, 1, 1, 1, 1, 1,\n",
       "       1, 1, 1, 1, 1, 1, 1, 1, 1, 1, 1, 1, 1, 1, 1, 1, 1, 1, 1, 1, 1, 1, 1,\n",
       "       1, 1, 1, 1, 1, 1, 1, 1, 1, 1, 1, 1, 1, 1, 0, 1, 1, 1, 1, 1, 1, 1, 1,\n",
       "       1, 1, 1, 1, 1, 2, 1, 1, 1, 1, 1, 1, 1, 1, 1, 1, 0, 1, 1, 0, 1, 1, 1,\n",
       "       1, 1, 1, 1, 1, 1, 1, 1, 1, 1, 1, 1, 1, 1, 1, 1, 1, 1, 1, 1, 1, 1, 1,\n",
       "       1, 1, 1, 1, 1, 1, 1, 1, 1, 1, 1, 1, 1, 1, 1, 1, 1, 1, 1, 1, 1, 1, 1,\n",
       "       1, 1, 1, 1, 1, 1, 0, 1, 1, 1, 1, 1, 1, 1, 1, 1, 1, 1, 1, 1, 1, 1, 1,\n",
       "       1, 1, 1, 1, 1, 1, 1, 1, 1, 1, 1, 1, 1, 1, 1, 1, 1, 1, 1, 1, 1, 1, 1,\n",
       "       1, 1, 1, 1, 1, 1, 1, 1, 1, 1, 1, 1, 1, 1, 1, 1, 1, 1, 1, 1, 1, 1, 1,\n",
       "       1, 1, 1, 0, 1, 1, 1, 1, 1, 1, 1, 1, 1, 1, 1, 1, 1, 1, 1, 1, 1, 1, 1,\n",
       "       1, 1, 1, 1, 1, 1, 1, 1, 1, 1, 1, 1, 1, 1, 1, 1, 1, 1, 1, 1, 1, 1, 1,\n",
       "       1, 1, 1, 1, 1, 1, 1, 1, 2, 1, 1, 1, 1, 1, 1, 1, 1, 1, 1, 1, 1, 1, 1,\n",
       "       1, 1, 1, 1, 1, 1, 1, 1, 1, 1, 1, 1, 1, 1, 1, 1, 1, 1, 1, 1, 1, 1, 1,\n",
       "       1, 1, 1, 1, 1, 1, 1, 1, 1, 1, 1, 1, 1, 1, 1, 1, 1, 1, 1, 1, 1, 1, 1,\n",
       "       1, 1, 1, 1, 1, 1, 1, 1, 1, 1, 1, 1, 1, 1, 1, 1, 1, 1, 1, 1, 1, 1, 1,\n",
       "       1, 1, 1, 1, 1, 1, 1, 1, 1, 1, 1, 1, 1, 1, 1, 1, 1, 1, 1, 1, 1, 2, 1,\n",
       "       1, 1, 1, 1, 1, 1, 1, 1, 1, 1, 1, 1, 1, 1, 1, 1, 1, 1, 1, 1, 1, 1, 1,\n",
       "       1, 1, 1, 1, 1, 1, 1, 1, 1, 1, 1, 1, 1, 1, 1, 1, 2, 1, 1, 1, 1, 1, 1,\n",
       "       1, 0, 1, 1, 1, 1, 1, 1, 1, 1, 1, 1, 1, 0, 1, 1, 1, 1, 1, 1, 1, 1, 1,\n",
       "       1, 1, 1, 1, 1, 1, 1, 1, 1, 1, 1, 1, 1, 1, 1, 1, 1, 1, 1, 1, 1, 1, 1,\n",
       "       1, 1, 1, 1, 1, 1, 1, 1, 1, 1])"
      ]
     },
     "execution_count": 270,
     "metadata": {},
     "output_type": "execute_result"
    }
   ],
   "source": [
    "rf_cluster_ids"
   ]
  },
  {
   "cell_type": "code",
   "execution_count": 271,
   "metadata": {
    "collapsed": true
   },
   "outputs": [],
   "source": [
    "make_csv(rf_cluster_ids)"
   ]
  },
  {
   "cell_type": "markdown",
   "metadata": {},
   "source": [
    "## Repustate"
   ]
  },
  {
   "cell_type": "code",
   "execution_count": 60,
   "metadata": {
    "collapsed": true
   },
   "outputs": [],
   "source": [
    "result = pd.read_csv(\"/Users/alexajax/Downloads/repustate-results.csv\")"
   ]
  },
  {
   "cell_type": "code",
   "execution_count": 61,
   "metadata": {
    "collapsed": true
   },
   "outputs": [],
   "source": [
    "def ev(x):\n",
    "    if x < 0:\n",
    "        return 0\n",
    "    if x == 0:\n",
    "        return 1\n",
    "    if x > 0:\n",
    "        return 2"
   ]
  },
  {
   "cell_type": "code",
   "execution_count": 62,
   "metadata": {
    "collapsed": true
   },
   "outputs": [],
   "source": [
    "result = result[result.Text != \"sentence\"]"
   ]
  },
  {
   "cell_type": "code",
   "execution_count": 63,
   "metadata": {},
   "outputs": [],
   "source": [
    "make_csv(list(map(ev, result.Sentiment.values)))"
   ]
  },
  {
   "cell_type": "code",
   "execution_count": 75,
   "metadata": {},
   "outputs": [
    {
     "data": {
      "text/plain": [
       "Counter({'negative': 21, 'neutral': 448, 'positive': 7})"
      ]
     },
     "execution_count": 75,
     "metadata": {},
     "output_type": "execute_result"
    }
   ],
   "source": [
    "Counter(data_labeled[\"label\"][data_labeled[\"sentence\"].apply(lambda s : \"?\" in s)])"
   ]
  },
  {
   "cell_type": "markdown",
   "metadata": {},
   "source": [
    "## Indico"
   ]
  },
  {
   "cell_type": "code",
   "execution_count": 35,
   "metadata": {
    "collapsed": true
   },
   "outputs": [],
   "source": [
    "import indicoio"
   ]
  },
  {
   "cell_type": "code",
   "execution_count": 36,
   "metadata": {
    "collapsed": true
   },
   "outputs": [],
   "source": [
    "indicoio.config.api_key = '99d25f7b6d9a122fa38fb64233a48f7f'"
   ]
  },
  {
   "cell_type": "code",
   "execution_count": 39,
   "metadata": {
    "scrolled": true
   },
   "outputs": [
    {
     "data": {
      "text/html": [
       "<div>\n",
       "<table border=\"1\" class=\"dataframe\">\n",
       "  <thead>\n",
       "    <tr style=\"text-align: right;\">\n",
       "      <th></th>\n",
       "      <th>sentence</th>\n",
       "      <th>label</th>\n",
       "    </tr>\n",
       "  </thead>\n",
       "  <tbody>\n",
       "    <tr>\n",
       "      <th>0</th>\n",
       "      <td>-- То-то -- бедная!</td>\n",
       "      <td>neutral</td>\n",
       "    </tr>\n",
       "    <tr>\n",
       "      <th>1</th>\n",
       "      <td>-- Куда же приехали-то?</td>\n",
       "      <td>neutral</td>\n",
       "    </tr>\n",
       "    <tr>\n",
       "      <th>2</th>\n",
       "      <td>-- Когда бог судить-то будет?</td>\n",
       "      <td>neutral</td>\n",
       "    </tr>\n",
       "    <tr>\n",
       "      <th>3</th>\n",
       "      <td>-- А коли высечешь, значит, и не отвергнешь!</td>\n",
       "      <td>neutral</td>\n",
       "    </tr>\n",
       "    <tr>\n",
       "      <th>4</th>\n",
       "      <td>-- А где одёжу возьмёшь?</td>\n",
       "      <td>neutral</td>\n",
       "    </tr>\n",
       "    <tr>\n",
       "      <th>5</th>\n",
       "      <td>-- Нимало: не все равно играть, что там, что у...</td>\n",
       "      <td>neutral</td>\n",
       "    </tr>\n",
       "    <tr>\n",
       "      <th>6</th>\n",
       "      <td>-- А вот что я скажу тебе, Ваня, -- решил стар...</td>\n",
       "      <td>neutral</td>\n",
       "    </tr>\n",
       "    <tr>\n",
       "      <th>7</th>\n",
       "      <td>-- Чего изволите?</td>\n",
       "      <td>neutral</td>\n",
       "    </tr>\n",
       "    <tr>\n",
       "      <th>8</th>\n",
       "      <td>-- Нет, маменька, не надо.</td>\n",
       "      <td>neutral</td>\n",
       "    </tr>\n",
       "    <tr>\n",
       "      <th>9</th>\n",
       "      <td>-- В поле -- очень!</td>\n",
       "      <td>neutral</td>\n",
       "    </tr>\n",
       "    <tr>\n",
       "      <th>10</th>\n",
       "      <td>-- На что дан свет человеку, которого путь зак...</td>\n",
       "      <td>neutral</td>\n",
       "    </tr>\n",
       "    <tr>\n",
       "      <th>11</th>\n",
       "      <td>-- Кшш!..</td>\n",
       "      <td>negative</td>\n",
       "    </tr>\n",
       "    <tr>\n",
       "      <th>12</th>\n",
       "      <td>-- Мне во что бы ни стало нужны деньги, -- ска...</td>\n",
       "      <td>neutral</td>\n",
       "    </tr>\n",
       "    <tr>\n",
       "      <th>13</th>\n",
       "      <td>-- Коку с соком, Крестьян Иванович; это послов...</td>\n",
       "      <td>neutral</td>\n",
       "    </tr>\n",
       "    <tr>\n",
       "      <th>14</th>\n",
       "      <td>-- Которому?</td>\n",
       "      <td>neutral</td>\n",
       "    </tr>\n",
       "    <tr>\n",
       "      <th>15</th>\n",
       "      <td>-- Совсем убил?</td>\n",
       "      <td>neutral</td>\n",
       "    </tr>\n",
       "    <tr>\n",
       "      <th>16</th>\n",
       "      <td>-- Да благословит же тебя бог, как я благослов...</td>\n",
       "      <td>positive</td>\n",
       "    </tr>\n",
       "    <tr>\n",
       "      <th>17</th>\n",
       "      <td>-- Ах ты, боже мой!</td>\n",
       "      <td>neutral</td>\n",
       "    </tr>\n",
       "    <tr>\n",
       "      <th>18</th>\n",
       "      <td>-- Мейн фрау!</td>\n",
       "      <td>neutral</td>\n",
       "    </tr>\n",
       "    <tr>\n",
       "      <th>19</th>\n",
       "      <td>-- Ну, ин вон в том, -- в-вон в этом!</td>\n",
       "      <td>neutral</td>\n",
       "    </tr>\n",
       "    <tr>\n",
       "      <th>20</th>\n",
       "      <td>-- О нет, всё это шутка!</td>\n",
       "      <td>neutral</td>\n",
       "    </tr>\n",
       "    <tr>\n",
       "      <th>21</th>\n",
       "      <td>-- Вы клялись, что соскочили бы с Шлангенберга...</td>\n",
       "      <td>negative</td>\n",
       "    </tr>\n",
       "    <tr>\n",
       "      <th>22</th>\n",
       "      <td>-- Пи-лой пы-лят, а иглой шьют.</td>\n",
       "      <td>neutral</td>\n",
       "    </tr>\n",
       "    <tr>\n",
       "      <th>23</th>\n",
       "      <td>-- Не твое дело, сволочь!</td>\n",
       "      <td>negative</td>\n",
       "    </tr>\n",
       "    <tr>\n",
       "      <th>24</th>\n",
       "      <td>-- Спасибо, Пелагея Ниловна!</td>\n",
       "      <td>positive</td>\n",
       "    </tr>\n",
       "    <tr>\n",
       "      <th>25</th>\n",
       "      <td>-- Смотреть!..</td>\n",
       "      <td>neutral</td>\n",
       "    </tr>\n",
       "    <tr>\n",
       "      <th>26</th>\n",
       "      <td>-- И уж, конечно, он в десять раз богаче франц...</td>\n",
       "      <td>neutral</td>\n",
       "    </tr>\n",
       "    <tr>\n",
       "      <th>27</th>\n",
       "      <td>-- А этот дом Пчелина купца, Саввы Петровича.</td>\n",
       "      <td>neutral</td>\n",
       "    </tr>\n",
       "    <tr>\n",
       "      <th>28</th>\n",
       "      <td>-- Они говорят: вы уж с месяц, говорят, обещал...</td>\n",
       "      <td>neutral</td>\n",
       "    </tr>\n",
       "    <tr>\n",
       "      <th>29</th>\n",
       "      <td>-- Для знакомств вообще я мало времени имею, -...</td>\n",
       "      <td>neutral</td>\n",
       "    </tr>\n",
       "    <tr>\n",
       "      <th>...</th>\n",
       "      <td>...</td>\n",
       "      <td>...</td>\n",
       "    </tr>\n",
       "    <tr>\n",
       "      <th>1835</th>\n",
       "      <td>-- Барышня, а барышня?</td>\n",
       "      <td>neutral</td>\n",
       "    </tr>\n",
       "    <tr>\n",
       "      <th>1836</th>\n",
       "      <td>-- Голубушка!</td>\n",
       "      <td>positive</td>\n",
       "    </tr>\n",
       "    <tr>\n",
       "      <th>1837</th>\n",
       "      <td>-- Бывало -- да; а теперь другое дело: в двена...</td>\n",
       "      <td>neutral</td>\n",
       "    </tr>\n",
       "    <tr>\n",
       "      <th>1838</th>\n",
       "      <td>-- Это мне всё равно, -- тихо и равнодушно отв...</td>\n",
       "      <td>neutral</td>\n",
       "    </tr>\n",
       "    <tr>\n",
       "      <th>1839</th>\n",
       "      <td>-- Эти два стула, поручик, назначены: один для...</td>\n",
       "      <td>neutral</td>\n",
       "    </tr>\n",
       "    <tr>\n",
       "      <th>1840</th>\n",
       "      <td>-- Умыться готово?</td>\n",
       "      <td>neutral</td>\n",
       "    </tr>\n",
       "    <tr>\n",
       "      <th>1841</th>\n",
       "      <td>-- Вот они, Емельян Герасимович, войти хотят, ...</td>\n",
       "      <td>neutral</td>\n",
       "    </tr>\n",
       "    <tr>\n",
       "      <th>1842</th>\n",
       "      <td>-- Долго ты нынче просидишь у Беловодовой?</td>\n",
       "      <td>neutral</td>\n",
       "    </tr>\n",
       "    <tr>\n",
       "      <th>1843</th>\n",
       "      <td>-- Звал?</td>\n",
       "      <td>neutral</td>\n",
       "    </tr>\n",
       "    <tr>\n",
       "      <th>1844</th>\n",
       "      <td>-- Заморишь!</td>\n",
       "      <td>negative</td>\n",
       "    </tr>\n",
       "    <tr>\n",
       "      <th>1845</th>\n",
       "      <td>-- И только с воздухом...</td>\n",
       "      <td>neutral</td>\n",
       "    </tr>\n",
       "    <tr>\n",
       "      <th>1846</th>\n",
       "      <td>-- Ну, ещё что?</td>\n",
       "      <td>neutral</td>\n",
       "    </tr>\n",
       "    <tr>\n",
       "      <th>1847</th>\n",
       "      <td>-- И буду, и буду ходить.</td>\n",
       "      <td>neutral</td>\n",
       "    </tr>\n",
       "    <tr>\n",
       "      <th>1848</th>\n",
       "      <td>-- А что, бабуся, -- сказал философ, идя за ст...</td>\n",
       "      <td>neutral</td>\n",
       "    </tr>\n",
       "    <tr>\n",
       "      <th>1849</th>\n",
       "      <td>-- Эге, да ты вот что!</td>\n",
       "      <td>neutral</td>\n",
       "    </tr>\n",
       "    <tr>\n",
       "      <th>1850</th>\n",
       "      <td>-- Вот слушайте только, что он говорит!</td>\n",
       "      <td>negative</td>\n",
       "    </tr>\n",
       "    <tr>\n",
       "      <th>1851</th>\n",
       "      <td>-- Немецкому способу накопления богатств.</td>\n",
       "      <td>neutral</td>\n",
       "    </tr>\n",
       "    <tr>\n",
       "      <th>1852</th>\n",
       "      <td>-- Прощайте, братцы, прощайте, не поминайте ли...</td>\n",
       "      <td>neutral</td>\n",
       "    </tr>\n",
       "    <tr>\n",
       "      <th>1853</th>\n",
       "      <td>-- До свидания!</td>\n",
       "      <td>neutral</td>\n",
       "    </tr>\n",
       "    <tr>\n",
       "      <th>1854</th>\n",
       "      <td>-- Пожалуй,- говорил Афанасий Иванович, подста...</td>\n",
       "      <td>neutral</td>\n",
       "    </tr>\n",
       "    <tr>\n",
       "      <th>1855</th>\n",
       "      <td>-- Ты где был?</td>\n",
       "      <td>neutral</td>\n",
       "    </tr>\n",
       "    <tr>\n",
       "      <th>1856</th>\n",
       "      <td>-- Знаю я, к какому он графу!</td>\n",
       "      <td>neutral</td>\n",
       "    </tr>\n",
       "    <tr>\n",
       "      <th>1857</th>\n",
       "      <td>-- Вчера утром.</td>\n",
       "      <td>neutral</td>\n",
       "    </tr>\n",
       "    <tr>\n",
       "      <th>1858</th>\n",
       "      <td>-- Я -- купец!</td>\n",
       "      <td>neutral</td>\n",
       "    </tr>\n",
       "    <tr>\n",
       "      <th>1859</th>\n",
       "      <td>-- Довольно!</td>\n",
       "      <td>negative</td>\n",
       "    </tr>\n",
       "    <tr>\n",
       "      <th>1860</th>\n",
       "      <td>-- Нет, нет, -- заговорил он, ободрительно тре...</td>\n",
       "      <td>neutral</td>\n",
       "    </tr>\n",
       "    <tr>\n",
       "      <th>1861</th>\n",
       "      <td>-- Ничего!</td>\n",
       "      <td>neutral</td>\n",
       "    </tr>\n",
       "    <tr>\n",
       "      <th>1862</th>\n",
       "      <td>-- Тогда, по-моему, и ходить незачем.</td>\n",
       "      <td>neutral</td>\n",
       "    </tr>\n",
       "    <tr>\n",
       "      <th>1863</th>\n",
       "      <td>-- Ты здесь, Ганя?</td>\n",
       "      <td>neutral</td>\n",
       "    </tr>\n",
       "    <tr>\n",
       "      <th>1864</th>\n",
       "      <td>-- Куда ж его положили -- почему мне знать?</td>\n",
       "      <td>neutral</td>\n",
       "    </tr>\n",
       "  </tbody>\n",
       "</table>\n",
       "<p>1865 rows × 2 columns</p>\n",
       "</div>"
      ],
      "text/plain": [
       "                                               sentence     label\n",
       "0                                   -- То-то -- бедная!   neutral\n",
       "1                               -- Куда же приехали-то?   neutral\n",
       "2                         -- Когда бог судить-то будет?   neutral\n",
       "3          -- А коли высечешь, значит, и не отвергнешь!   neutral\n",
       "4                              -- А где одёжу возьмёшь?   neutral\n",
       "5     -- Нимало: не все равно играть, что там, что у...   neutral\n",
       "6     -- А вот что я скажу тебе, Ваня, -- решил стар...   neutral\n",
       "7                                     -- Чего изволите?   neutral\n",
       "8                            -- Нет, маменька, не надо.   neutral\n",
       "9                                   -- В поле -- очень!   neutral\n",
       "10    -- На что дан свет человеку, которого путь зак...   neutral\n",
       "11                                            -- Кшш!..  negative\n",
       "12    -- Мне во что бы ни стало нужны деньги, -- ска...   neutral\n",
       "13    -- Коку с соком, Крестьян Иванович; это послов...   neutral\n",
       "14                                         -- Которому?   neutral\n",
       "15                                      -- Совсем убил?   neutral\n",
       "16    -- Да благословит же тебя бог, как я благослов...  positive\n",
       "17                                  -- Ах ты, боже мой!   neutral\n",
       "18                                        -- Мейн фрау!   neutral\n",
       "19                -- Ну, ин вон в том, -- в-вон в этом!   neutral\n",
       "20                             -- О нет, всё это шутка!   neutral\n",
       "21    -- Вы клялись, что соскочили бы с Шлангенберга...  negative\n",
       "22                      -- Пи-лой пы-лят, а иглой шьют.   neutral\n",
       "23                            -- Не твое дело, сволочь!  negative\n",
       "24                         -- Спасибо, Пелагея Ниловна!  positive\n",
       "25                                       -- Смотреть!..   neutral\n",
       "26    -- И уж, конечно, он в десять раз богаче франц...   neutral\n",
       "27        -- А этот дом Пчелина купца, Саввы Петровича.   neutral\n",
       "28    -- Они говорят: вы уж с месяц, говорят, обещал...   neutral\n",
       "29    -- Для знакомств вообще я мало времени имею, -...   neutral\n",
       "...                                                 ...       ...\n",
       "1835                             -- Барышня, а барышня?   neutral\n",
       "1836                                      -- Голубушка!  positive\n",
       "1837  -- Бывало -- да; а теперь другое дело: в двена...   neutral\n",
       "1838  -- Это мне всё равно, -- тихо и равнодушно отв...   neutral\n",
       "1839  -- Эти два стула, поручик, назначены: один для...   neutral\n",
       "1840                                 -- Умыться готово?   neutral\n",
       "1841  -- Вот они, Емельян Герасимович, войти хотят, ...   neutral\n",
       "1842         -- Долго ты нынче просидишь у Беловодовой?   neutral\n",
       "1843                                           -- Звал?   neutral\n",
       "1844                                       -- Заморишь!  negative\n",
       "1845                          -- И только с воздухом...   neutral\n",
       "1846                                    -- Ну, ещё что?   neutral\n",
       "1847                          -- И буду, и буду ходить.   neutral\n",
       "1848  -- А что, бабуся, -- сказал философ, идя за ст...   neutral\n",
       "1849                             -- Эге, да ты вот что!   neutral\n",
       "1850            -- Вот слушайте только, что он говорит!  negative\n",
       "1851          -- Немецкому способу накопления богатств.   neutral\n",
       "1852  -- Прощайте, братцы, прощайте, не поминайте ли...   neutral\n",
       "1853                                    -- До свидания!   neutral\n",
       "1854  -- Пожалуй,- говорил Афанасий Иванович, подста...   neutral\n",
       "1855                                     -- Ты где был?   neutral\n",
       "1856                      -- Знаю я, к какому он графу!   neutral\n",
       "1857                                    -- Вчера утром.   neutral\n",
       "1858                                     -- Я -- купец!   neutral\n",
       "1859                                       -- Довольно!  negative\n",
       "1860  -- Нет, нет, -- заговорил он, ободрительно тре...   neutral\n",
       "1861                                         -- Ничего!   neutral\n",
       "1862              -- Тогда, по-моему, и ходить незачем.   neutral\n",
       "1863                                 -- Ты здесь, Ганя?   neutral\n",
       "1864        -- Куда ж его положили -- почему мне знать?   neutral\n",
       "\n",
       "[1865 rows x 2 columns]"
      ]
     },
     "execution_count": 39,
     "metadata": {},
     "output_type": "execute_result"
    }
   ],
   "source": [
    "data_labeled"
   ]
  },
  {
   "cell_type": "code",
   "execution_count": 41,
   "metadata": {},
   "outputs": [],
   "source": [
    "labeled_indico = indicoio.sentiment(list(data_labeled.sentence.values))"
   ]
  },
  {
   "cell_type": "code",
   "execution_count": 86,
   "metadata": {},
   "outputs": [
    {
     "data": {
      "text/plain": [
       "(0.47711443481692312, 0.46750826373307691)"
      ]
     },
     "execution_count": 86,
     "metadata": {},
     "output_type": "execute_result"
    }
   ],
   "source": [
    "np.array(labeled_indico)[data_labeled.label.values==\"positive\"].mean(),np.array(labeled_indico)[data_labeled.label.values==\"negative\"].mean()"
   ]
  },
  {
   "cell_type": "code",
   "execution_count": 83,
   "metadata": {
    "scrolled": false
   },
   "outputs": [
    {
     "data": {
      "text/plain": [
       "(array([ 116.,  159.,  195.,  185.,  183.,  178.,  129.,  139.,  112.,   79.]),\n",
       " array([ 0.00164797,  0.10093526,  0.20022255,  0.29950984,  0.39879713,\n",
       "         0.49808441,  0.5973717 ,  0.69665899,  0.79594628,  0.89523357,\n",
       "         0.99452085]),\n",
       " <a list of 10 Patch objects>)"
      ]
     },
     "execution_count": 83,
     "metadata": {},
     "output_type": "execute_result"
    },
    {
     "data": {
      "image/png": "[encoded data removed]",
      "text/plain": [
       "<matplotlib.figure.Figure at 0x11cec17b8>"
      ]
     },
     "metadata": {},
     "output_type": "display_data"
    }
   ],
   "source": [
    "plt.hist(\n",
    "    np.array(labeled_indico)[data_labeled.label.values==\"positive\"],alpha=0.1\n",
    "    )\n",
    "\n",
    "plt.hist(\n",
    "    np.array(labeled_indico)[data_labeled.label.values==\"negative\"],alpha=0.1\n",
    "    )\n",
    "\n",
    "plt.hist(\n",
    "    np.array(labeled_indico)[data_labeled.label.values==\"neutral\"],alpha=0.1\n",
    "    )"
   ]
  },
  {
   "cell_type": "markdown",
   "metadata": {},
   "source": [
    "## W2V"
   ]
  },
  {
   "cell_type": "code",
   "execution_count": 136,
   "metadata": {
    "collapsed": true
   },
   "outputs": [],
   "source": [
    "from gensim.models.word2vec import Word2Vec"
   ]
  },
  {
   "cell_type": "code",
   "execution_count": 139,
   "metadata": {},
   "outputs": [],
   "source": [
    "w2vmodel = Word2Vec.load_word2vec_format(\"/Users/alexajax/Downloads/ruscorpora.model.bin\", binary=True)"
   ]
  },
  {
   "cell_type": "code",
   "execution_count": 142,
   "metadata": {},
   "outputs": [],
   "source": [
    "word_vectors = {}\n",
    "\n",
    "for word in (uvocab | lvocab | tvocab):\n",
    "    try:\n",
    "        word_vectors[word] = w2vmodel[word]\n",
    "    except KeyError:\n",
    "        pass"
   ]
  },
  {
   "cell_type": "code",
   "execution_count": 145,
   "metadata": {},
   "outputs": [
    {
     "data": {
      "text/plain": [
       "0.8483646301683858"
      ]
     },
     "execution_count": 145,
     "metadata": {},
     "output_type": "execute_result"
    }
   ],
   "source": [
    "len(word_vectors)/len(uvocab | lvocab | tvocab)"
   ]
  },
  {
   "cell_type": "code",
   "execution_count": 254,
   "metadata": {},
   "outputs": [],
   "source": [
    "labeled_matrix_w2v = vectorize_w2v(data_labeled)\n",
    "unlabeled_matrix_w2v = vectorize_w2v(data_unlabeled)\n",
    "test_matrix_w2v = vectorize_w2v(data_test)"
   ]
  },
  {
   "cell_type": "code",
   "execution_count": 255,
   "metadata": {},
   "outputs": [
    {
     "name": "stdout",
     "output_type": "stream",
     "text": [
      "CPU times: user 1min 42s, sys: 909 ms, total: 1min 43s\n",
      "Wall time: 16.3 s\n"
     ]
    },
    {
     "data": {
      "text/plain": [
       "RandomForestClassifier(bootstrap=True, class_weight=None, criterion='gini',\n",
       "            max_depth=None, max_features='auto', max_leaf_nodes=None,\n",
       "            min_impurity_split=1e-07, min_samples_leaf=1,\n",
       "            min_samples_split=2, min_weight_fraction_leaf=0.0,\n",
       "            n_estimators=3000, n_jobs=-1, oob_score=False,\n",
       "            random_state=None, verbose=0, warm_start=False)"
      ]
     },
     "execution_count": 255,
     "metadata": {},
     "output_type": "execute_result"
    }
   ],
   "source": [
    "rf_w2v = RandomForestClassifier(n_estimators=3000, n_jobs=-1)\n",
    "%time rf_w2v.fit(labeled_matrix_w2v, Y)"
   ]
  },
  {
   "cell_type": "code",
   "execution_count": 256,
   "metadata": {
    "collapsed": true
   },
   "outputs": [],
   "source": [
    "rf_cluster_ids_w2v = rf_w2v.predict(test_matrix_w2v)"
   ]
  },
  {
   "cell_type": "code",
   "execution_count": 257,
   "metadata": {},
   "outputs": [
    {
     "data": {
      "text/plain": [
       "array([0, 1, 1, 1, 1, 2, 1, 1, 1, 1, 1, 1, 1, 1, 1, 1, 1, 1, 0, 1, 1, 1, 1,\n",
       "       1, 1, 1, 1, 1, 1, 1, 1, 1, 1, 1, 1, 1, 1, 1, 1, 1, 1, 1, 1, 1, 1, 1,\n",
       "       1, 1, 1, 1, 1, 1, 1, 1, 1, 1, 1, 1, 1, 1, 1, 1, 1, 1, 1, 1, 1, 1, 1,\n",
       "       1, 1, 1, 1, 1, 1, 1, 1, 1, 1, 1, 1, 1, 1, 1, 1, 1, 1, 1, 1, 1, 1, 1,\n",
       "       1, 1, 1, 1, 1, 1, 1, 1, 1, 1, 1, 0, 1, 1, 1, 1, 1, 1, 1, 1, 1, 1, 1,\n",
       "       1, 1, 1, 0, 1, 1, 1, 1, 1, 1, 1, 1, 1, 1, 1, 1, 1, 1, 1, 1, 1, 1, 1,\n",
       "       1, 1, 1, 1, 1, 1, 1, 1, 1, 1, 2, 1, 1, 1, 1, 1, 1, 1, 1, 1, 1, 1, 1,\n",
       "       1, 1, 1, 1, 1, 1, 1, 1, 1, 1, 1, 1, 1, 1, 1, 1, 1, 1, 1, 1, 1, 1, 1,\n",
       "       1, 1, 1, 1, 1, 1, 1, 1, 1, 1, 1, 1, 1, 1, 1, 1, 1, 1, 1, 1, 1, 1, 1,\n",
       "       1, 1, 1, 1, 1, 1, 1, 1, 1, 1, 1, 1, 1, 1, 1, 1, 1, 1, 1, 1, 1, 1, 1,\n",
       "       1, 1, 1, 1, 1, 1, 1, 1, 1, 1, 1, 1, 1, 1, 1, 1, 1, 1, 1, 1, 1, 1, 1,\n",
       "       1, 1, 1, 1, 1, 1, 1, 1, 1, 1, 1, 1, 1, 1, 1, 1, 1, 1, 1, 1, 1, 1, 1,\n",
       "       1, 1, 1, 1, 1, 1, 1, 1, 1, 1, 1, 1, 1, 1, 1, 1, 1, 1, 1, 1, 1, 1, 1,\n",
       "       1, 1, 1, 1, 1, 1, 1, 1, 1, 1, 1, 0, 1, 1, 1, 1, 1, 1, 1, 1, 1, 1, 1,\n",
       "       1, 1, 1, 1, 1, 1, 1, 1, 1, 1, 1, 1, 1, 1, 1, 1, 1, 1, 1, 2, 1, 1, 1,\n",
       "       2, 1, 2, 1, 1, 1, 1, 1, 1, 1, 1, 1, 1, 2, 1, 1, 1, 1, 1, 1, 1, 1, 1,\n",
       "       1, 1, 1, 1, 1, 1, 1, 1, 1, 1, 1, 1, 1, 1, 1, 1, 1, 1, 1, 1, 1, 1, 1,\n",
       "       1, 1, 1, 1, 1, 1, 1, 1, 1, 1, 1, 1, 1, 1, 1, 1, 1, 1, 1, 1, 1, 1, 1,\n",
       "       1, 1, 1, 1, 1, 1, 1, 1, 1, 1, 1, 1, 1, 1, 1, 1, 1, 1, 1, 1, 1, 1, 1,\n",
       "       1, 1, 1, 1, 1, 1, 1, 1, 1, 1, 1, 1, 1, 1, 1, 1, 1, 1, 1, 1, 1, 1, 1,\n",
       "       1, 1, 1, 1, 1, 1, 1, 1, 1, 1, 1, 1, 1, 1, 1, 1, 1, 1, 1, 1, 1, 1, 1,\n",
       "       1, 1, 1, 1, 1, 1, 1, 0, 1, 1, 1, 1, 1, 1, 1, 1, 1, 1, 1, 1, 1, 1, 1,\n",
       "       1, 1, 1, 1, 1, 1, 1, 1, 1, 1, 1, 1, 1, 1, 1, 1, 1, 1, 1, 1, 1, 1, 1,\n",
       "       1, 1, 1, 1, 1, 1, 1, 1, 1, 1, 1, 1, 1, 1, 0, 1, 1, 1, 1, 1, 1, 1, 1,\n",
       "       1, 1, 1, 1, 1, 1, 1, 1, 1, 1, 1, 1, 1, 1, 1, 1, 1, 1, 1, 1, 1, 1, 1,\n",
       "       1, 1, 1, 1, 1, 1, 1, 1, 1, 1, 1, 1, 1, 1, 1, 1, 1, 1, 1, 1, 1, 1, 1,\n",
       "       1, 1, 1, 1, 1, 1, 1, 1, 1, 1, 1, 1, 1, 1, 1, 1, 1, 1, 1, 1, 1, 1, 1,\n",
       "       1, 1, 1, 1, 1, 1, 1, 1, 1, 1, 1, 1, 1, 1, 1, 1, 1, 1, 1, 1, 1, 1, 1,\n",
       "       1, 1, 1, 0, 1, 1, 1, 1, 1, 1, 1, 1, 1, 1, 1, 1, 1, 1, 1, 1, 1, 1, 1,\n",
       "       1, 1, 1, 1, 1, 1, 1, 1, 1, 1, 1, 1, 1, 1, 1, 1, 1, 1, 1, 1, 1, 1, 1,\n",
       "       1, 1, 1, 1, 1, 1, 1, 1, 1, 1])"
      ]
     },
     "execution_count": 257,
     "metadata": {},
     "output_type": "execute_result"
    }
   ],
   "source": [
    "rf_cluster_ids_w2v"
   ]
  },
  {
   "cell_type": "code",
   "execution_count": 259,
   "metadata": {
    "collapsed": true
   },
   "outputs": [],
   "source": [
    "make_csv(rf_cluster_ids_w2v)"
   ]
  },
  {
   "cell_type": "code",
   "execution_count": null,
   "metadata": {
    "collapsed": true
   },
   "outputs": [],
   "source": []
  }
 ],
 "metadata": {
  "anaconda-cloud": {},
  "kernelspec": {
   "display_name": "Python 3",
   "language": "python",
   "name": "python3"
  },
  "language_info": {
   "codemirror_mode": {
    "name": "ipython",
    "version": 3
   },
   "file_extension": ".py",
   "mimetype": "text/x-python",
   "name": "python",
   "nbconvert_exporter": "python",
   "pygments_lexer": "ipython3",
   "version": "3.8.3"
  }
 },
 "nbformat": 4,
 "nbformat_minor": 1
}
