{
 "cells": [
  {
   "cell_type": "code",
   "execution_count": 73,
   "metadata": {
    "button": false,
    "collapsed": true,
    "new_sheet": false,
    "run_control": {
     "read_only": false
    }
   },
   "outputs": [],
   "source": [
    "import numpy as np\n",
    "import pandas as pd\n",
    "import re\n",
    "import pymorphy2\n",
    "import logging\n",
    "logging.basicConfig(format='%(asctime)s : %(levelname)s : %(message)s', level=logging.INFO)\n",
    "from sklearn.feature_extraction.text import TfidfVectorizer\n",
    "import matplotlib.pyplot as plt\n",
    "%matplotlib inline\n",
    "from sklearn.cluster import KMeans\n",
    "from sklearn.decomposition import PCA, LatentDirichletAllocation\n",
    "from sklearn.manifold import TSNE\n",
    "from collections import Counter\n",
    "from sklearn.ensemble import RandomForestClassifier\n",
    "import editdistance\n",
    "import requests\n",
    "from bs4 import BeautifulSoup"
   ]
  },
  {
   "cell_type": "code",
   "execution_count": 74,
   "metadata": {
    "button": false,
    "collapsed": true,
    "new_sheet": false,
    "run_control": {
     "read_only": false
    }
   },
   "outputs": [],
   "source": [
    "with open(\"/Users/alexajax/Downloads/dataset_40412_2.txt\", encoding='utf-8') as f:\n",
    "    data = f.read().splitlines()"
   ]
  },
  {
   "cell_type": "code",
   "execution_count": 75,
   "metadata": {
    "button": false,
    "collapsed": true,
    "new_sheet": false,
    "run_control": {
     "read_only": false
    }
   },
   "outputs": [],
   "source": [
    "import wikipedia\n",
    "wikipedia.set_lang(\"ru\")"
   ]
  },
  {
   "cell_type": "code",
   "execution_count": 76,
   "metadata": {
    "button": false,
    "collapsed": true,
    "new_sheet": false,
    "run_control": {
     "read_only": false
    }
   },
   "outputs": [],
   "source": [
    "categories = ['Персоналии по алфавиту',\n",
    "'Населённые пункты по алфавиту',\n",
    "'Спортсмены по алфавиту', \n",
    "'Водные объекты по алфавиту',\n",
    "'Учёные по алфавиту',\n",
    "'Реки по алфавиту',\n",
    "'Животные по алфавиту',\n",
    "'Футболисты по алфавиту',\n",
    "'Кавалеры ордена Ленина',\n",
    "'Фильмы по алфавиту',\n",
    "'Музыканты по алфавиту',\n",
    "'Писатели по алфавиту',\n",
    "'Умершие в Москве',\n",
    "'Альбомы по алфавиту',\n",
    "'Статьи проекта Биология',\n",
    "'Герои Советского Союза',\n",
    "'Родившиеся в Москве',\n",
    "'Актёры по алфавиту',\n",
    "'Растения по алфавиту',\n",
    "'Компании по алфавиту',\n",
    "'Члены КПСС',\n",
    "'Актрисы по алфавиту',\n",
    "'Улицы по алфавиту',\n",
    "'Музыкальные коллективы по алфавиту',\n",
    "'Политики по алфавиту',\n",
    "'Умершие в Санкт-Петербурге',\n",
    "'Награждённые медалью «За победу над Германией в Великой Отечественной войне 1941—1945 гг.»',\n",
    "'Родившиеся в Санкт-Петербурге',\n",
    "'Галактики по алфавиту',\n",
    "'Компьютерные игры по алфавиту',\n",
    "'Синглы по алфавиту',\n",
    "'Виды вне опасности',\n",
    "'Участники Первой мировой войны',\n",
    "'Футбольные клубы по алфавиту',\n",
    "'Умершие в Париже',\n",
    "'Офицеры СССР',\n",
    "'Актёры XXI века']"
   ]
  },
  {
   "cell_type": "code",
   "execution_count": 77,
   "metadata": {
    "button": false,
    "collapsed": true,
    "new_sheet": false,
    "run_control": {
     "read_only": false
    }
   },
   "outputs": [],
   "source": [
    "categories = dict(enumerate(list(map(lambda x: 'Категория:' + x, categories)), 1))\n",
    "categories = {v: k for k, v in categories.items()}"
   ]
  },
  {
   "cell_type": "code",
   "execution_count": 78,
   "metadata": {
    "button": false,
    "new_sheet": false,
    "run_control": {
     "read_only": false
    }
   },
   "outputs": [
    {
     "data": {
      "text/plain": [
       "{'Категория:Актрисы по алфавиту': 22,\n",
       " 'Категория:Актёры XXI века': 37,\n",
       " 'Категория:Актёры по алфавиту': 18,\n",
       " 'Категория:Альбомы по алфавиту': 14,\n",
       " 'Категория:Виды вне опасности': 32,\n",
       " 'Категория:Водные объекты по алфавиту': 4,\n",
       " 'Категория:Галактики по алфавиту': 29,\n",
       " 'Категория:Герои Советского Союза': 16,\n",
       " 'Категория:Животные по алфавиту': 7,\n",
       " 'Категория:Кавалеры ордена Ленина': 9,\n",
       " 'Категория:Компании по алфавиту': 20,\n",
       " 'Категория:Компьютерные игры по алфавиту': 30,\n",
       " 'Категория:Музыкальные коллективы по алфавиту': 24,\n",
       " 'Категория:Музыканты по алфавиту': 11,\n",
       " 'Категория:Награждённые медалью «За победу над Германией в Великой Отечественной войне 1941—1945 гг.»': 27,\n",
       " 'Категория:Населённые пункты по алфавиту': 2,\n",
       " 'Категория:Офицеры СССР': 36,\n",
       " 'Категория:Персоналии по алфавиту': 1,\n",
       " 'Категория:Писатели по алфавиту': 12,\n",
       " 'Категория:Политики по алфавиту': 25,\n",
       " 'Категория:Растения по алфавиту': 19,\n",
       " 'Категория:Реки по алфавиту': 6,\n",
       " 'Категория:Родившиеся в Москве': 17,\n",
       " 'Категория:Родившиеся в Санкт-Петербурге': 28,\n",
       " 'Категория:Синглы по алфавиту': 31,\n",
       " 'Категория:Спортсмены по алфавиту': 3,\n",
       " 'Категория:Статьи проекта Биология': 15,\n",
       " 'Категория:Улицы по алфавиту': 23,\n",
       " 'Категория:Умершие в Москве': 13,\n",
       " 'Категория:Умершие в Париже': 35,\n",
       " 'Категория:Умершие в Санкт-Петербурге': 26,\n",
       " 'Категория:Участники Первой мировой войны': 33,\n",
       " 'Категория:Учёные по алфавиту': 5,\n",
       " 'Категория:Фильмы по алфавиту': 10,\n",
       " 'Категория:Футболисты по алфавиту': 8,\n",
       " 'Категория:Футбольные клубы по алфавиту': 34,\n",
       " 'Категория:Члены КПСС': 21}"
      ]
     },
     "execution_count": 78,
     "metadata": {},
     "output_type": "execute_result"
    }
   ],
   "source": [
    "categories"
   ]
  },
  {
   "cell_type": "code",
   "execution_count": 79,
   "metadata": {
    "button": false,
    "collapsed": true,
    "new_sheet": false,
    "run_control": {
     "read_only": false
    }
   },
   "outputs": [],
   "source": [
    "import re"
   ]
  },
  {
   "cell_type": "code",
   "execution_count": 80,
   "metadata": {
    "button": false,
    "collapsed": true,
    "new_sheet": false,
    "run_control": {
     "read_only": false
    }
   },
   "outputs": [],
   "source": [
    "from tqdm import tqdm"
   ]
  },
  {
   "cell_type": "code",
   "execution_count": 82,
   "metadata": {
    "button": false,
    "collapsed": true,
    "new_sheet": false,
    "run_control": {
     "read_only": false
    }
   },
   "outputs": [],
   "source": [
    "import unicodedata\n",
    "def strip_accents(s):\n",
    "    s = re.sub(\"\\[[^\\ ]+\\]\",' ',s)\n",
    "    return ''.join(c for c in unicodedata.normalize('NFD', s)\n",
    "                  if unicodedata.category(c) != 'Mn')"
   ]
  },
  {
   "cell_type": "code",
   "execution_count": 81,
   "metadata": {
    "button": false,
    "collapsed": true,
    "new_sheet": false,
    "run_control": {
     "read_only": false
    }
   },
   "outputs": [],
   "source": [
    "def categorize(piece):\n",
    "    page_categories = []\n",
    "    \n",
    "    search_param = piece.split('—')[0].rstrip(' ').replace('‘', \"'\")\n",
    "    print(search_param)\n",
    "    \n",
    "    print()\n",
    "    \n",
    "#    res = (wikipedia.search(search_param)\\\n",
    "#           +wikipedia.search(strip_accents(search_param))\\\n",
    "#           +wikipedia.search(' '.join(search_param.split()[:2]))\\\n",
    "#           +wikipedia.search(search_param.split()[0]))[:5]\n",
    "\n",
    "    res = (wikipedia.search(search_param) + wikipedia.search(strip_accents(search_param)))[:4]\n",
    "    print(res)\n",
    "    \n",
    "    distances = []\n",
    "    for p in res:\n",
    "        try:\n",
    "            distances.append(editdistance.eval(wikipedia.page(p).content[:len(piece)], piece))\n",
    "        except:\n",
    "            distances.append(float('inf'))\n",
    "    page = wikipedia.page(res[np.argmin(np.array(distances))])\n",
    "    \n",
    "    soup = BeautifulSoup(requests.get(page.url).text)\n",
    "    normal_cats = str(soup.find('div', attrs={'id': \"mw-normal-catlinks\"}))\n",
    "    \n",
    "    for category in categories.keys():\n",
    "        if category in normal_cats:\n",
    "            page_categories.append(categories[category])\n",
    "            print(category)\n",
    "    \n",
    "    print(sorted(page_categories))\n",
    "    print(\"\", end='\\n\\n\\n')\n",
    "    return sorted(page_categories)"
   ]
  },
  {
   "cell_type": "code",
   "execution_count": 83,
   "metadata": {
    "button": false,
    "new_sheet": false,
    "run_control": {
     "read_only": false
    }
   },
   "outputs": [
    {
     "name": "stderr",
     "output_type": "stream",
     "text": [
      "\r",
      "  0%|          | 0/30 [00:00<?, ?it/s]"
     ]
    },
    {
     "name": "stdout",
     "output_type": "stream",
     "text": [
      "«Девочка-скерцо»\n",
      "\n",
      "['Девочка-скерцо', 'Хвоин', 'Королюк, Всеволод Емельянович', 'Арефьева, Ольга Викторовна']\n"
     ]
    },
    {
     "name": "stderr",
     "output_type": "stream",
     "text": [
      "/Users/alexajax/anaconda3/lib/python3.5/site-packages/bs4/__init__.py:166: UserWarning: No parser was explicitly specified, so I'm using the best available HTML parser for this system (\"lxml\"). This usually isn't a problem, but if you run this code on another system, or in a different virtual environment, it may use a different parser and behave differently.\n",
      "\n",
      "To get rid of this warning, change this:\n",
      "\n",
      " BeautifulSoup([your markup])\n",
      "\n",
      "to this:\n",
      "\n",
      " BeautifulSoup([your markup], \"lxml\")\n",
      "\n",
      "  markup_type=markup_type))\n",
      "\r",
      "  3%|▎         | 1/30 [00:07<03:36,  7.47s/it]"
     ]
    },
    {
     "name": "stdout",
     "output_type": "stream",
     "text": [
      "Категория:Альбомы по алфавиту\n",
      "[14]\n",
      "\n",
      "\n",
      "\n",
      "Рауль Стефан Пюньо (фр. Raoul Stéphane Pugno; 23 июня 1852, Монруж\n",
      "\n",
      "['Пюньо, Рауль Стефан']\n"
     ]
    },
    {
     "name": "stderr",
     "output_type": "stream",
     "text": [
      "\r",
      "  7%|▋         | 2/30 [00:11<02:57,  6.35s/it]"
     ]
    },
    {
     "name": "stdout",
     "output_type": "stream",
     "text": [
      "Категория:Музыканты по алфавиту\n",
      "Категория:Умершие в Москве\n",
      "Категория:Персоналии по алфавиту\n",
      "[1, 11, 13]\n",
      "\n",
      "\n",
      "\n",
      "Назарий Григорьевич Райский (настоящая фамилия Капитонов, 1876\n",
      "\n",
      "['Райский, Назарий Григорьевич']\n"
     ]
    },
    {
     "name": "stderr",
     "output_type": "stream",
     "text": [
      "\r",
      " 10%|█         | 3/30 [00:15<02:31,  5.60s/it]"
     ]
    },
    {
     "name": "stdout",
     "output_type": "stream",
     "text": [
      "Категория:Музыканты по алфавиту\n",
      "Категория:Умершие в Москве\n",
      "Категория:Персоналии по алфавиту\n",
      "[1, 11, 13]\n",
      "\n",
      "\n",
      "\n",
      "Трикраты (укр. Трикрати)\n",
      "\n",
      "['Трикраты', 'Заря (Вознесенский район, Николаевская область)', 'Вольный Яр', 'Актово']\n"
     ]
    },
    {
     "name": "stderr",
     "output_type": "stream",
     "text": [
      "\r",
      " 13%|█▎        | 4/30 [00:22<02:38,  6.11s/it]"
     ]
    },
    {
     "name": "stdout",
     "output_type": "stream",
     "text": [
      "Категория:Населённые пункты по алфавиту\n",
      "[2]\n",
      "\n",
      "\n",
      "\n",
      "Фишбахау (нем. Fischbachau)\n",
      "\n",
      "['Фишбахау', 'Фишбахау']\n"
     ]
    },
    {
     "name": "stderr",
     "output_type": "stream",
     "text": [
      "\r",
      " 17%|█▋        | 5/30 [00:26<02:14,  5.39s/it]"
     ]
    },
    {
     "name": "stdout",
     "output_type": "stream",
     "text": [
      "Категория:Населённые пункты по алфавиту\n",
      "[2]\n",
      "\n",
      "\n",
      "\n",
      "Ричфилд (англ. Richfield)\n",
      "\n",
      "['Ричфилд (город, Миннесота)', 'Ричфилд (Юта)', 'Ричфилд (территория, Иллинойс)', 'Эредия (Коста-Рика)']\n"
     ]
    },
    {
     "name": "stderr",
     "output_type": "stream",
     "text": [
      "\r",
      " 20%|██        | 6/30 [00:33<02:26,  6.11s/it]"
     ]
    },
    {
     "name": "stdout",
     "output_type": "stream",
     "text": [
      "Категория:Населённые пункты по алфавиту\n",
      "[2]\n",
      "\n",
      "\n",
      "\n",
      "Драгоча\n",
      "\n",
      "['Драгоча', 'Тьмака', 'Тьма (река)', 'Рачайна']\n"
     ]
    },
    {
     "name": "stderr",
     "output_type": "stream",
     "text": [
      "\r",
      " 23%|██▎       | 7/30 [00:41<02:28,  6.47s/it]"
     ]
    },
    {
     "name": "stdout",
     "output_type": "stream",
     "text": [
      "Категория:Реки по алфавиту\n",
      "[6]\n",
      "\n",
      "\n",
      "\n",
      "Халмин\n",
      "\n",
      "['Халмин', 'Щербинин, Олег Григорьевич', 'Список рек Камчатского края', 'Курикка, Матти']\n"
     ]
    },
    {
     "name": "stderr",
     "output_type": "stream",
     "text": [
      "\r",
      " 27%|██▋       | 8/30 [00:48<02:28,  6.73s/it]"
     ]
    },
    {
     "name": "stdout",
     "output_type": "stream",
     "text": [
      "Категория:Реки по алфавиту\n",
      "[6]\n",
      "\n",
      "\n",
      "\n",
      "Абда́лка или Абда́льская (укр. Абдалка, крымско-тат. Abdal, Абдал), ранее называлась Боурча[2][3]\n",
      "\n",
      "['Абдалка']\n"
     ]
    },
    {
     "name": "stderr",
     "output_type": "stream",
     "text": [
      "\r",
      " 30%|███       | 9/30 [00:51<02:00,  5.74s/it]"
     ]
    },
    {
     "name": "stdout",
     "output_type": "stream",
     "text": [
      "Категория:Реки по алфавиту\n",
      "[6]\n",
      "\n",
      "\n",
      "\n",
      "Лисичанскуголь, угледобывающее государственное предприятие (центр\n",
      "\n",
      "['Лисичанскуголь', 'Лисичанск', 'Лисичанскуголь', 'Лисичанск']\n"
     ]
    },
    {
     "name": "stderr",
     "output_type": "stream",
     "text": [
      "\r",
      " 33%|███▎      | 10/30 [00:58<01:58,  5.94s/it]"
     ]
    },
    {
     "name": "stdout",
     "output_type": "stream",
     "text": [
      "Категория:Компании по алфавиту\n",
      "[20]\n",
      "\n",
      "\n",
      "\n",
      "Андре́й Серге́евич Кайса́ров (16 (27) ноября 1782, Москва\n",
      "\n",
      "['Кайсаров, Андрей Сергеевич']\n"
     ]
    },
    {
     "name": "stderr",
     "output_type": "stream",
     "text": [
      "\r",
      " 37%|███▋      | 11/30 [01:01<01:39,  5.23s/it]"
     ]
    },
    {
     "name": "stdout",
     "output_type": "stream",
     "text": [
      "Категория:Родившиеся в Москве\n",
      "Категория:Писатели по алфавиту\n",
      "Категория:Персоналии по алфавиту\n",
      "[1, 12, 17]\n",
      "\n",
      "\n",
      "\n",
      "Дорога в облака\n",
      "\n",
      "['Дорога в облака', 'По дороге с облаками', 'Облака (комедия)', 'Канатная дорога Мисхор — Ай-Петри']\n"
     ]
    },
    {
     "name": "stderr",
     "output_type": "stream",
     "text": [
      "\r",
      " 40%|████      | 12/30 [01:09<01:46,  5.91s/it]"
     ]
    },
    {
     "name": "stdout",
     "output_type": "stream",
     "text": [
      "Категория:Альбомы по алфавиту\n",
      "[14]\n",
      "\n",
      "\n",
      "\n",
      "Норосовка (в верховье Большая Норосовка)\n",
      "\n",
      "['Норосовка', 'Кеть', 'Конда (приток Кети)', 'Утка (нижний приток Кети)']\n"
     ]
    },
    {
     "name": "stderr",
     "output_type": "stream",
     "text": [
      "\r",
      " 43%|████▎     | 13/30 [01:16<01:47,  6.32s/it]"
     ]
    },
    {
     "name": "stdout",
     "output_type": "stream",
     "text": [
      "Категория:Реки по алфавиту\n",
      "[6]\n",
      "\n",
      "\n",
      "\n",
      "Сабула (в переводе с хак. «Пихтовая»)\n",
      "\n",
      "['Сабула', 'Сабула']\n"
     ]
    },
    {
     "name": "stderr",
     "output_type": "stream",
     "text": [
      "\r",
      " 47%|████▋     | 14/30 [01:20<01:29,  5.58s/it]"
     ]
    },
    {
     "name": "stdout",
     "output_type": "stream",
     "text": [
      "Категория:Реки по алфавиту\n",
      "[6]\n",
      "\n",
      "\n",
      "\n",
      "Игорь Николаевич Панин\n",
      "\n",
      "['Панин, Игорь Николаевич', 'Панин, Игорь', 'Панин', 'Панин, Андрей Владимирович']\n"
     ]
    },
    {
     "name": "stderr",
     "output_type": "stream",
     "text": [
      "\r",
      " 50%|█████     | 15/30 [01:28<01:33,  6.23s/it]"
     ]
    },
    {
     "name": "stdout",
     "output_type": "stream",
     "text": [
      "Категория:Актёры по алфавиту\n",
      "Категория:Актёры XXI века\n",
      "Категория:Персоналии по алфавиту\n",
      "[1, 18, 37]\n",
      "\n",
      "\n",
      "\n",
      "Замбе́зи\n",
      "\n",
      "['Замбези', 'Мидл-Замбези', 'Трансграничный заповедник Каванго-Замбези', 'Замбези (значения)']\n"
     ]
    },
    {
     "name": "stderr",
     "output_type": "stream",
     "text": [
      "\r",
      " 53%|█████▎    | 16/30 [01:36<01:35,  6.85s/it]"
     ]
    },
    {
     "name": "stdout",
     "output_type": "stream",
     "text": [
      "Категория:Реки по алфавиту\n",
      "[6]\n",
      "\n",
      "\n",
      "\n",
      "Дирикон (нем. Dierikon)\n",
      "\n",
      "['Дирикон', 'Дирикон']\n"
     ]
    },
    {
     "name": "stderr",
     "output_type": "stream",
     "text": [
      "\r",
      " 60%|██████    | 18/30 [01:40<01:04,  5.39s/it]"
     ]
    },
    {
     "name": "stdout",
     "output_type": "stream",
     "text": [
      "Категория:Населённые пункты по алфавиту\n",
      "[2]\n",
      "\n",
      "\n",
      "\n",
      "«Человек в белом костюме» (англ. The Man in the White Suit, 1951)\n",
      "\n",
      "['Человек в белом костюме', 'Маккендрик, Александр', 'Библиография Рэя Брэдбери', 'BAFTA (премия, 1952)']\n"
     ]
    },
    {
     "name": "stderr",
     "output_type": "stream",
     "text": [
      "\r",
      " 63%|██████▎   | 19/30 [01:48<01:06,  6.06s/it]"
     ]
    },
    {
     "name": "stdout",
     "output_type": "stream",
     "text": [
      "Категория:Фильмы по алфавиту\n",
      "[10]\n",
      "\n",
      "\n",
      "\n",
      "Икки Кита (яп. 北 一輝 Кита Икки, 3 апреля 1883 года, село Рёцу-Минато, в настоящее время город Садо префектуры Ниигата\n",
      "\n",
      "['Кита, Икки', 'Кита, Икки']\n"
     ]
    },
    {
     "name": "stderr",
     "output_type": "stream",
     "text": [
      "\r",
      " 67%|██████▋   | 20/30 [01:52<00:56,  5.62s/it]"
     ]
    },
    {
     "name": "stdout",
     "output_type": "stream",
     "text": [
      "Категория:Писатели по алфавиту\n",
      "Категория:Персоналии по алфавиту\n",
      "[1, 12]\n",
      "\n",
      "\n",
      "\n",
      "Журуа́ (порт. Juruá)\n",
      "\n",
      "['Журуа', 'Журуа (значения)', 'Журуа (муниципалитет)', 'Журуа (микрорегион)']\n"
     ]
    },
    {
     "name": "stderr",
     "output_type": "stream",
     "text": [
      "\r",
      " 70%|███████   | 21/30 [02:01<00:57,  6.41s/it]"
     ]
    },
    {
     "name": "stdout",
     "output_type": "stream",
     "text": [
      "Категория:Реки по алфавиту\n",
      "[6]\n",
      "\n",
      "\n",
      "\n",
      "Альфо́нс Мари́ Венса́н Лео́н Доде́ (фр. Alphonse Marie Vincent Léon Daudet; 1867, Париж\n",
      "\n",
      "['Доде, Леон']\n"
     ]
    },
    {
     "name": "stderr",
     "output_type": "stream",
     "text": [
      "\r",
      " 73%|███████▎  | 22/30 [02:04<00:43,  5.50s/it]"
     ]
    },
    {
     "name": "stdout",
     "output_type": "stream",
     "text": [
      "Категория:Писатели по алфавиту\n",
      "Категория:Персоналии по алфавиту\n",
      "[1, 12]\n",
      "\n",
      "\n",
      "\n",
      "«Почта Ватикана» (итал. Poste vaticane)\n",
      "\n",
      "['Почта Ватикана', 'История почты и почтовых марок Ватикана', 'Почта Ватикана', 'История почты и почтовых марок Ватикана']\n"
     ]
    },
    {
     "name": "stderr",
     "output_type": "stream",
     "text": [
      "\r",
      " 77%|███████▋  | 23/30 [02:15<00:50,  7.24s/it]"
     ]
    },
    {
     "name": "stdout",
     "output_type": "stream",
     "text": [
      "Категория:Компании по алфавиту\n",
      "[20]\n",
      "\n",
      "\n",
      "\n",
      "Питер Хёг (дат. Peter Høeg; род. 17 мая 1957 года в Копенгагене)\n",
      "\n",
      "['Хёг, Питер', 'Хёг, Питер']\n"
     ]
    },
    {
     "name": "stderr",
     "output_type": "stream",
     "text": [
      "\r",
      " 80%|████████  | 24/30 [02:20<00:38,  6.40s/it]"
     ]
    },
    {
     "name": "stdout",
     "output_type": "stream",
     "text": [
      "Категория:Писатели по алфавиту\n",
      "Категория:Персоналии по алфавиту\n",
      "[1, 12]\n",
      "\n",
      "\n",
      "\n",
      "«Челове́к дождя́» (англ. Rain Man)\n",
      "\n",
      "['Человек дождя', 'Пурпурный дождь', 'Purple Rain', 'Rain (песня The Beatles)']\n"
     ]
    },
    {
     "name": "stderr",
     "output_type": "stream",
     "text": [
      "\r",
      " 83%|████████▎ | 25/30 [02:28<00:34,  6.95s/it]"
     ]
    },
    {
     "name": "stdout",
     "output_type": "stream",
     "text": [
      "Категория:Фильмы по алфавиту\n",
      "[10]\n",
      "\n",
      "\n",
      "\n",
      "Днепр (белор. Дняпро, Днепр[1], укр. Дніпро, Дніпер[2])\n",
      "\n",
      "['Днепр', 'Днепр']\n"
     ]
    },
    {
     "name": "stderr",
     "output_type": "stream",
     "text": [
      "\r",
      " 87%|████████▋ | 26/30 [02:33<00:25,  6.31s/it]"
     ]
    },
    {
     "name": "stdout",
     "output_type": "stream",
     "text": [
      "Категория:Реки по алфавиту\n",
      "[6]\n",
      "\n",
      "\n",
      "\n",
      "«Некрома́нтик» (англ. Nekromantik)\n",
      "\n",
      "['Некромантик', 'Некромантик 2', 'Некрофилия', 'Некромантик']\n"
     ]
    },
    {
     "name": "stderr",
     "output_type": "stream",
     "text": [
      "\r",
      " 90%|█████████ | 27/30 [02:42<00:21,  7.13s/it]"
     ]
    },
    {
     "name": "stdout",
     "output_type": "stream",
     "text": [
      "Категория:Фильмы по алфавиту\n",
      "[10]\n",
      "\n",
      "\n",
      "\n",
      "Лукиничи\n",
      "\n",
      "['Лукиничи', 'Онцифор Лукинич', 'Мерлинское сельское поселение', '1367 год']\n"
     ]
    },
    {
     "name": "stderr",
     "output_type": "stream",
     "text": [
      "\r",
      " 93%|█████████▎| 28/30 [02:49<00:14,  7.21s/it]"
     ]
    },
    {
     "name": "stdout",
     "output_type": "stream",
     "text": [
      "Категория:Населённые пункты по алфавиту\n",
      "[2]\n",
      "\n",
      "\n",
      "\n",
      "Нётома\n",
      "\n",
      "['Нетома', 'Черча', 'Макаровка (приток Нетомы)', 'Шойкаполда']\n"
     ]
    },
    {
     "name": "stderr",
     "output_type": "stream",
     "text": [
      "\r",
      " 97%|█████████▋| 29/30 [02:57<00:07,  7.45s/it]"
     ]
    },
    {
     "name": "stdout",
     "output_type": "stream",
     "text": [
      "Категория:Реки по алфавиту\n",
      "[6]\n",
      "\n",
      "\n",
      "\n",
      "Родди Дойл (англ. Roddy Doyle, 8 мая 1958 года, Дублин)\n",
      "\n",
      "['Дойл, Родди']\n"
     ]
    },
    {
     "name": "stderr",
     "output_type": "stream",
     "text": [
      "\r",
      "100%|██████████| 30/30 [03:01<00:00,  6.24s/it]"
     ]
    },
    {
     "name": "stdout",
     "output_type": "stream",
     "text": [
      "Категория:Писатели по алфавиту\n",
      "Категория:Персоналии по алфавиту\n",
      "[1, 12]\n",
      "\n",
      "\n",
      "\n"
     ]
    },
    {
     "name": "stderr",
     "output_type": "stream",
     "text": [
      "\n"
     ]
    }
   ],
   "source": [
    "data_categories = []\n",
    "for piece in tqdm(data):\n",
    "    if piece.startswith(\"«Игра́й!» — первый альбом\"):\n",
    "        data_categories.append([14])\n",
    "        continue\n",
    "    data_categories.append(categorize(piece))"
   ]
  },
  {
   "cell_type": "code",
   "execution_count": 84,
   "metadata": {
    "button": false,
    "new_sheet": false,
    "run_control": {
     "read_only": false
    }
   },
   "outputs": [
    {
     "name": "stdout",
     "output_type": "stream",
     "text": [
      "14\n",
      "1 11 13\n",
      "1 11 13\n",
      "2\n",
      "2\n",
      "2\n",
      "6\n",
      "6\n",
      "6\n",
      "20\n",
      "1 12 17\n",
      "14\n",
      "6\n",
      "6\n",
      "1 18 37\n",
      "6\n",
      "14\n",
      "2\n",
      "10\n",
      "1 12\n",
      "6\n",
      "1 12\n",
      "20\n",
      "1 12\n",
      "10\n",
      "6\n",
      "10\n",
      "2\n",
      "6\n",
      "1 12\n"
     ]
    }
   ],
   "source": [
    "for p in data_categories:\n",
    "    print(\" \".join(list(map(str, p))))"
   ]
  },
  {
   "cell_type": "code",
   "execution_count": null,
   "metadata": {
    "button": false,
    "collapsed": true,
    "new_sheet": false,
    "run_control": {
     "read_only": false
    }
   },
   "outputs": [],
   "source": []
  }
 ],
 "metadata": {
  "kernelspec": {
   "display_name": "Python 3",
   "language": "python",
   "name": "python3"
  },
  "language_info": {
   "codemirror_mode": {
    "name": "ipython",
    "version": 3
   },
   "file_extension": ".py",
   "mimetype": "text/x-python",
   "name": "python",
   "nbconvert_exporter": "python",
   "pygments_lexer": "ipython3",
   "version": "3.8.3"
  }
 },
 "nbformat": 4,
 "nbformat_minor": 1
}
