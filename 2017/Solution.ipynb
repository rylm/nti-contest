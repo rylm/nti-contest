{
 "cells": [
  {
   "cell_type": "code",
   "execution_count": 1,
   "metadata": {
    "button": false,
    "collapsed": true,
    "new_sheet": false,
    "run_control": {
     "read_only": false
    }
   },
   "outputs": [],
   "source": [
    "import numpy as np\n",
    "import pandas as pd"
   ]
  },
  {
   "cell_type": "code",
   "execution_count": 2,
   "metadata": {
    "button": false,
    "new_sheet": false,
    "run_control": {
     "read_only": false
    }
   },
   "outputs": [],
   "source": [
    "from tqdm import tqdm"
   ]
  },
  {
   "cell_type": "code",
   "execution_count": 3,
   "metadata": {
    "button": false,
    "collapsed": true,
    "new_sheet": false,
    "run_control": {
     "read_only": false
    }
   },
   "outputs": [],
   "source": [
    "import pymorphy2\n",
    "import re"
   ]
  },
  {
   "cell_type": "code",
   "execution_count": 4,
   "metadata": {
    "button": false,
    "new_sheet": false,
    "run_control": {
     "read_only": false
    }
   },
   "outputs": [],
   "source": [
    "data = pd.read_csv(\"/Users/alexajax/Downloads/test_1.csv\")"
   ]
  },
  {
   "cell_type": "code",
   "execution_count": 5,
   "metadata": {
    "button": false,
    "new_sheet": false,
    "run_control": {
     "read_only": false
    }
   },
   "outputs": [],
   "source": [
    "dlabel = data[data.person_id.values!=-1]\n",
    "dunlabel = data[data.person_id.values==-1]"
   ]
  },
  {
   "cell_type": "code",
   "execution_count": 8,
   "metadata": {
    "button": false,
    "new_sheet": false,
    "run_control": {
     "read_only": false
    }
   },
   "outputs": [],
   "source": [
    "import nltk\n",
    "from nltk.corpus import stopwords as sw \n",
    "#nltk.download('stopwords', halt_on_error=False)\n",
    "\n",
    "stopwords = sw.words(\"russian\")"
   ]
  },
  {
   "cell_type": "code",
   "execution_count": 26,
   "metadata": {
    "button": false,
    "new_sheet": false,
    "run_control": {
     "read_only": false
    }
   },
   "outputs": [
    {
     "data": {
      "text/html": [
       "<div>\n",
       "<table border=\"1\" class=\"dataframe\">\n",
       "  <thead>\n",
       "    <tr style=\"text-align: right;\">\n",
       "      <th></th>\n",
       "      <th>note_id</th>\n",
       "      <th>text</th>\n",
       "      <th>person_id</th>\n",
       "    </tr>\n",
       "  </thead>\n",
       "  <tbody>\n",
       "    <tr>\n",
       "      <th>6</th>\n",
       "      <td>203495</td>\n",
       "      <td>Кончаю II т. Сошного письма с утомленным и под...</td>\n",
       "      <td>629</td>\n",
       "    </tr>\n",
       "    <tr>\n",
       "      <th>8</th>\n",
       "      <td>103374</td>\n",
       "      <td>На днях прирезала одного цыпленка (ушиб крылыш...</td>\n",
       "      <td>384</td>\n",
       "    </tr>\n",
       "    <tr>\n",
       "      <th>11</th>\n",
       "      <td>75608</td>\n",
       "      <td>... 4-ю четверть окончил «круглым» [отличником...</td>\n",
       "      <td>324</td>\n",
       "    </tr>\n",
       "    <tr>\n",
       "      <th>13</th>\n",
       "      <td>94397</td>\n",
       "      <td>Вчера я была у Катюши Горянской. Сначала судил...</td>\n",
       "      <td>358</td>\n",
       "    </tr>\n",
       "    <tr>\n",
       "      <th>14</th>\n",
       "      <td>99005</td>\n",
       "      <td>Пятница. Теперь командует Черноморским флотом ...</td>\n",
       "      <td>373</td>\n",
       "    </tr>\n",
       "    <tr>\n",
       "      <th>18</th>\n",
       "      <td>166870</td>\n",
       "      <td>Заходила М.В.Кістяківська — дякувала за пораду...</td>\n",
       "      <td>402</td>\n",
       "    </tr>\n",
       "    <tr>\n",
       "      <th>19</th>\n",
       "      <td>182922</td>\n",
       "      <td>Однaжды Мaринa&lt;com id=\"14805283844198\"/&gt; скaзa...</td>\n",
       "      <td>511</td>\n",
       "    </tr>\n",
       "    <tr>\n",
       "      <th>20</th>\n",
       "      <td>222660</td>\n",
       "      <td>В воскресенье. Приехала Ира.</td>\n",
       "      <td>566</td>\n",
       "    </tr>\n",
       "    <tr>\n",
       "      <th>21</th>\n",
       "      <td>168604</td>\n",
       "      <td>&lt;...&gt; Мы все с Таруханом и Нару, кроме Порумы ...</td>\n",
       "      <td>454</td>\n",
       "    </tr>\n",
       "    <tr>\n",
       "      <th>23</th>\n",
       "      <td>117103</td>\n",
       "      <td>Комаровка.    \\nДорогой Олег!    \\nСпасибо теб...</td>\n",
       "      <td>439</td>\n",
       "    </tr>\n",
       "    <tr>\n",
       "      <th>27</th>\n",
       "      <td>172504</td>\n",
       "      <td>Никогда мне не надоедала работа в школе…    \\n...</td>\n",
       "      <td>825</td>\n",
       "    </tr>\n",
       "    <tr>\n",
       "      <th>29</th>\n",
       "      <td>104174</td>\n",
       "      <td>Москва    \\nМне очень грустно и тревожно за Иг...</td>\n",
       "      <td>389</td>\n",
       "    </tr>\n",
       "    <tr>\n",
       "      <th>30</th>\n",
       "      <td>200655</td>\n",
       "      <td>Среда. 11.03. [Переделкино] ...Приехал Паустов...</td>\n",
       "      <td>490</td>\n",
       "    </tr>\n",
       "    <tr>\n",
       "      <th>31</th>\n",
       "      <td>201317</td>\n",
       "      <td>Москва. Теперь я, кажется, совершенно спокойна...</td>\n",
       "      <td>486</td>\n",
       "    </tr>\n",
       "    <tr>\n",
       "      <th>33</th>\n",
       "      <td>99150</td>\n",
       "      <td>Все то же. Сегодня туман с утра.     \\nЧерт зн...</td>\n",
       "      <td>374</td>\n",
       "    </tr>\n",
       "    <tr>\n",
       "      <th>34</th>\n",
       "      <td>168241</td>\n",
       "      <td>По возвращении из Москвы нашел письмо на свое ...</td>\n",
       "      <td>344</td>\n",
       "    </tr>\n",
       "    <tr>\n",
       "      <th>38</th>\n",
       "      <td>99280</td>\n",
       "      <td>Утром был на заводе. Принял посетителей. Занял...</td>\n",
       "      <td>375</td>\n",
       "    </tr>\n",
       "    <tr>\n",
       "      <th>40</th>\n",
       "      <td>169405</td>\n",
       "      <td>Пока ничего существ[енного] не произошло.</td>\n",
       "      <td>610</td>\n",
       "    </tr>\n",
       "    <tr>\n",
       "      <th>43</th>\n",
       "      <td>213444</td>\n",
       "      <td>Неожиданно получила письмо от «моего» Юзефа. В...</td>\n",
       "      <td>600</td>\n",
       "    </tr>\n",
       "    <tr>\n",
       "      <th>44</th>\n",
       "      <td>205392</td>\n",
       "      <td>«Король Лир».    \\n«Что наша жизнь, как не оби...</td>\n",
       "      <td>491</td>\n",
       "    </tr>\n",
       "    <tr>\n",
       "      <th>45</th>\n",
       "      <td>215014</td>\n",
       "      <td>Принимали присягу партизана. Проводил старший ...</td>\n",
       "      <td>519</td>\n",
       "    </tr>\n",
       "    <tr>\n",
       "      <th>46</th>\n",
       "      <td>192669</td>\n",
       "      <td>Прослушивание балета и волнения, с этим связан...</td>\n",
       "      <td>616</td>\n",
       "    </tr>\n",
       "    <tr>\n",
       "      <th>47</th>\n",
       "      <td>55727</td>\n",
       "      <td>Воскресенье, 17.15. Д/о «Ильичево». Не писал т...</td>\n",
       "      <td>317</td>\n",
       "    </tr>\n",
       "    <tr>\n",
       "      <th>48</th>\n",
       "      <td>109528</td>\n",
       "      <td>Почти весь сентябрь стоит хорошая погода. Дожд...</td>\n",
       "      <td>418</td>\n",
       "    </tr>\n",
       "    <tr>\n",
       "      <th>50</th>\n",
       "      <td>100044</td>\n",
       "      <td>Меня очень беспокоит, что «Тебе, фронт!» увезл...</td>\n",
       "      <td>380</td>\n",
       "    </tr>\n",
       "    <tr>\n",
       "      <th>54</th>\n",
       "      <td>77178</td>\n",
       "      <td>После занятий ходили в кинотеатр «Спартак», см...</td>\n",
       "      <td>328</td>\n",
       "    </tr>\n",
       "    <tr>\n",
       "      <th>56</th>\n",
       "      <td>184227</td>\n",
       "      <td>### Недолгим было исчезновение колоколов с зав...</td>\n",
       "      <td>505</td>\n",
       "    </tr>\n",
       "    <tr>\n",
       "      <th>60</th>\n",
       "      <td>200100</td>\n",
       "      <td>Завтра «временно» хоронят в Москве то, что ост...</td>\n",
       "      <td>535</td>\n",
       "    </tr>\n",
       "    <tr>\n",
       "      <th>62</th>\n",
       "      <td>126704</td>\n",
       "      <td>Я и Наташа в Новоспасском.</td>\n",
       "      <td>416</td>\n",
       "    </tr>\n",
       "    <tr>\n",
       "      <th>63</th>\n",
       "      <td>169156</td>\n",
       "      <td>В эту ночь я спал безмятежно, но только до опр...</td>\n",
       "      <td>451</td>\n",
       "    </tr>\n",
       "    <tr>\n",
       "      <th>...</th>\n",
       "      <td>...</td>\n",
       "      <td>...</td>\n",
       "      <td>...</td>\n",
       "    </tr>\n",
       "    <tr>\n",
       "      <th>100242</th>\n",
       "      <td>125065</td>\n",
       "      <td>Пятница. Письмо от Солженицына:    \\n«30.3.74 ...</td>\n",
       "      <td>453</td>\n",
       "    </tr>\n",
       "    <tr>\n",
       "      <th>100244</th>\n",
       "      <td>177435</td>\n",
       "      <td>Бомба, попавшая в Ленэнерго, взорвалась при не...</td>\n",
       "      <td>640</td>\n",
       "    </tr>\n",
       "    <tr>\n",
       "      <th>100254</th>\n",
       "      <td>161009</td>\n",
       "      <td>Олександр Філаретович [*Скоропис-Йолтуховський...</td>\n",
       "      <td>413</td>\n",
       "    </tr>\n",
       "    <tr>\n",
       "      <th>100256</th>\n",
       "      <td>87006</td>\n",
       "      <td>Утром нас отвели назад в лес, где нас об'езжал...</td>\n",
       "      <td>336</td>\n",
       "    </tr>\n",
       "    <tr>\n",
       "      <th>100257</th>\n",
       "      <td>75955</td>\n",
       "      <td>Позавчера на блинах у нашей Тани, а вчера по с...</td>\n",
       "      <td>325</td>\n",
       "    </tr>\n",
       "    <tr>\n",
       "      <th>100258</th>\n",
       "      <td>202427</td>\n",
       "      <td>### *Отрывки* *из* *воспоминаний*    \\nВ день ...</td>\n",
       "      <td>672</td>\n",
       "    </tr>\n",
       "    <tr>\n",
       "      <th>100260</th>\n",
       "      <td>224155</td>\n",
       "      <td>Успехи наших на ю фронте вместе с радостью ожи...</td>\n",
       "      <td>973</td>\n",
       "    </tr>\n",
       "    <tr>\n",
       "      <th>100261</th>\n",
       "      <td>95972</td>\n",
       "      <td>Хомяков вечером был у Столыпина, чтобы перегов...</td>\n",
       "      <td>369</td>\n",
       "    </tr>\n",
       "    <tr>\n",
       "      <th>100267</th>\n",
       "      <td>88499</td>\n",
       "      <td>Я хочу, чтобы в театре не было имен. Хочу, что...</td>\n",
       "      <td>345</td>\n",
       "    </tr>\n",
       "    <tr>\n",
       "      <th>100269</th>\n",
       "      <td>52927</td>\n",
       "      <td>Воскресенье. Работаю у Мейерхольда. Всеволод Э...</td>\n",
       "      <td>304</td>\n",
       "    </tr>\n",
       "    <tr>\n",
       "      <th>100270</th>\n",
       "      <td>233635</td>\n",
       "      <td>6 November 1667.    \\nUp, and to Westminster, ...</td>\n",
       "      <td>999</td>\n",
       "    </tr>\n",
       "    <tr>\n",
       "      <th>100271</th>\n",
       "      <td>89590</td>\n",
       "      <td>Мы пришли в Россию в Келецкую губернию в месте...</td>\n",
       "      <td>350</td>\n",
       "    </tr>\n",
       "    <tr>\n",
       "      <th>100272</th>\n",
       "      <td>213092</td>\n",
       "      <td>Воскресенье. Совсем глупое дитя. Была у Хороша...</td>\n",
       "      <td>935</td>\n",
       "    </tr>\n",
       "    <tr>\n",
       "      <th>100282</th>\n",
       "      <td>55844</td>\n",
       "      <td>Суббота. Главное событие — осмотр жаток и комб...</td>\n",
       "      <td>317</td>\n",
       "    </tr>\n",
       "    <tr>\n",
       "      <th>100284</th>\n",
       "      <td>100545</td>\n",
       "      <td>11 час. 25 мин. Вот и пришел праздник 25-летия...</td>\n",
       "      <td>382</td>\n",
       "    </tr>\n",
       "    <tr>\n",
       "      <th>100286</th>\n",
       "      <td>91122</td>\n",
       "      <td>Приезжали Юра и Лена Сенокосовы, которых я люб...</td>\n",
       "      <td>356</td>\n",
       "    </tr>\n",
       "    <tr>\n",
       "      <th>100287</th>\n",
       "      <td>103382</td>\n",
       "      <td>Замороченные дни. Работы очень много и настоль...</td>\n",
       "      <td>384</td>\n",
       "    </tr>\n",
       "    <tr>\n",
       "      <th>100290</th>\n",
       "      <td>77190</td>\n",
       "      <td>Встречаемся по-прежнему у меня. Женя Сладков н...</td>\n",
       "      <td>328</td>\n",
       "    </tr>\n",
       "    <tr>\n",
       "      <th>100291</th>\n",
       "      <td>100171</td>\n",
       "      <td>Вчера вечером нежданно негаданно повезло. Сиде...</td>\n",
       "      <td>379</td>\n",
       "    </tr>\n",
       "    <tr>\n",
       "      <th>100299</th>\n",
       "      <td>224144</td>\n",
       "      <td>Годовщина войны. Вступаем в 11 месяц.    \\nВес...</td>\n",
       "      <td>973</td>\n",
       "    </tr>\n",
       "    <tr>\n",
       "      <th>100300</th>\n",
       "      <td>198219</td>\n",
       "      <td>Чествовали в связи с 60-летием члена-корреспон...</td>\n",
       "      <td>536</td>\n",
       "    </tr>\n",
       "    <tr>\n",
       "      <th>100302</th>\n",
       "      <td>186427</td>\n",
       "      <td>За окном — дождь. Кто-то сказал в столовой, за...</td>\n",
       "      <td>551</td>\n",
       "    </tr>\n",
       "    <tr>\n",
       "      <th>100303</th>\n",
       "      <td>100161</td>\n",
       "      <td>Тошно писать. Все по-прежнему, сижу голодный и...</td>\n",
       "      <td>379</td>\n",
       "    </tr>\n",
       "    <tr>\n",
       "      <th>100305</th>\n",
       "      <td>223628</td>\n",
       "      <td>Двухсерийный ТВ.    \\n«Утиная охота». Вампилов...</td>\n",
       "      <td>967</td>\n",
       "    </tr>\n",
       "    <tr>\n",
       "      <th>100307</th>\n",
       "      <td>206230</td>\n",
       "      <td>Где-то раньше в связи с обрушившейся на нас св...</td>\n",
       "      <td>531</td>\n",
       "    </tr>\n",
       "    <tr>\n",
       "      <th>100308</th>\n",
       "      <td>169254</td>\n",
       "      <td>В 7 часов утра я в компании двух московских де...</td>\n",
       "      <td>446</td>\n",
       "    </tr>\n",
       "    <tr>\n",
       "      <th>100309</th>\n",
       "      <td>88672</td>\n",
       "      <td>Суббота. Вчера съездили на уборку картошки. Но...</td>\n",
       "      <td>346</td>\n",
       "    </tr>\n",
       "    <tr>\n",
       "      <th>100311</th>\n",
       "      <td>110878</td>\n",
       "      <td>«Фигулирует».    \\nНаши полки лежат в обороне....</td>\n",
       "      <td>427</td>\n",
       "    </tr>\n",
       "    <tr>\n",
       "      <th>100315</th>\n",
       "      <td>53870</td>\n",
       "      <td>Стали отпускать бойцов в краткосрочные отпуска...</td>\n",
       "      <td>312</td>\n",
       "    </tr>\n",
       "    <tr>\n",
       "      <th>100318</th>\n",
       "      <td>191951</td>\n",
       "      <td>Что писал, думал, волновался — уже забыл! Удив...</td>\n",
       "      <td>321</td>\n",
       "    </tr>\n",
       "  </tbody>\n",
       "</table>\n",
       "<p>40875 rows × 3 columns</p>\n",
       "</div>"
      ],
      "text/plain": [
       "        note_id                                               text  person_id\n",
       "6        203495  Кончаю II т. Сошного письма с утомленным и под...        629\n",
       "8        103374  На днях прирезала одного цыпленка (ушиб крылыш...        384\n",
       "11        75608  ... 4-ю четверть окончил «круглым» [отличником...        324\n",
       "13        94397  Вчера я была у Катюши Горянской. Сначала судил...        358\n",
       "14        99005  Пятница. Теперь командует Черноморским флотом ...        373\n",
       "18       166870  Заходила М.В.Кістяківська — дякувала за пораду...        402\n",
       "19       182922  Однaжды Мaринa<com id=\"14805283844198\"/> скaзa...        511\n",
       "20       222660                       В воскресенье. Приехала Ира.        566\n",
       "21       168604  <...> Мы все с Таруханом и Нару, кроме Порумы ...        454\n",
       "23       117103  Комаровка.    \\nДорогой Олег!    \\nСпасибо теб...        439\n",
       "27       172504  Никогда мне не надоедала работа в школе…    \\n...        825\n",
       "29       104174  Москва    \\nМне очень грустно и тревожно за Иг...        389\n",
       "30       200655  Среда. 11.03. [Переделкино] ...Приехал Паустов...        490\n",
       "31       201317  Москва. Теперь я, кажется, совершенно спокойна...        486\n",
       "33        99150  Все то же. Сегодня туман с утра.     \\nЧерт зн...        374\n",
       "34       168241  По возвращении из Москвы нашел письмо на свое ...        344\n",
       "38        99280  Утром был на заводе. Принял посетителей. Занял...        375\n",
       "40       169405          Пока ничего существ[енного] не произошло.        610\n",
       "43       213444  Неожиданно получила письмо от «моего» Юзефа. В...        600\n",
       "44       205392  «Король Лир».    \\n«Что наша жизнь, как не оби...        491\n",
       "45       215014  Принимали присягу партизана. Проводил старший ...        519\n",
       "46       192669  Прослушивание балета и волнения, с этим связан...        616\n",
       "47        55727  Воскресенье, 17.15. Д/о «Ильичево». Не писал т...        317\n",
       "48       109528  Почти весь сентябрь стоит хорошая погода. Дожд...        418\n",
       "50       100044  Меня очень беспокоит, что «Тебе, фронт!» увезл...        380\n",
       "54        77178  После занятий ходили в кинотеатр «Спартак», см...        328\n",
       "56       184227  ### Недолгим было исчезновение колоколов с зав...        505\n",
       "60       200100  Завтра «временно» хоронят в Москве то, что ост...        535\n",
       "62       126704                         Я и Наташа в Новоспасском.        416\n",
       "63       169156  В эту ночь я спал безмятежно, но только до опр...        451\n",
       "...         ...                                                ...        ...\n",
       "100242   125065  Пятница. Письмо от Солженицына:    \\n«30.3.74 ...        453\n",
       "100244   177435  Бомба, попавшая в Ленэнерго, взорвалась при не...        640\n",
       "100254   161009  Олександр Філаретович [*Скоропис-Йолтуховський...        413\n",
       "100256    87006  Утром нас отвели назад в лес, где нас об'езжал...        336\n",
       "100257    75955  Позавчера на блинах у нашей Тани, а вчера по с...        325\n",
       "100258   202427  ### *Отрывки* *из* *воспоминаний*    \\nВ день ...        672\n",
       "100260   224155  Успехи наших на ю фронте вместе с радостью ожи...        973\n",
       "100261    95972  Хомяков вечером был у Столыпина, чтобы перегов...        369\n",
       "100267    88499  Я хочу, чтобы в театре не было имен. Хочу, что...        345\n",
       "100269    52927  Воскресенье. Работаю у Мейерхольда. Всеволод Э...        304\n",
       "100270   233635  6 November 1667.    \\nUp, and to Westminster, ...        999\n",
       "100271    89590  Мы пришли в Россию в Келецкую губернию в месте...        350\n",
       "100272   213092  Воскресенье. Совсем глупое дитя. Была у Хороша...        935\n",
       "100282    55844  Суббота. Главное событие — осмотр жаток и комб...        317\n",
       "100284   100545  11 час. 25 мин. Вот и пришел праздник 25-летия...        382\n",
       "100286    91122  Приезжали Юра и Лена Сенокосовы, которых я люб...        356\n",
       "100287   103382  Замороченные дни. Работы очень много и настоль...        384\n",
       "100290    77190  Встречаемся по-прежнему у меня. Женя Сладков н...        328\n",
       "100291   100171  Вчера вечером нежданно негаданно повезло. Сиде...        379\n",
       "100299   224144  Годовщина войны. Вступаем в 11 месяц.    \\nВес...        973\n",
       "100300   198219  Чествовали в связи с 60-летием члена-корреспон...        536\n",
       "100302   186427  За окном — дождь. Кто-то сказал в столовой, за...        551\n",
       "100303   100161  Тошно писать. Все по-прежнему, сижу голодный и...        379\n",
       "100305   223628  Двухсерийный ТВ.    \\n«Утиная охота». Вампилов...        967\n",
       "100307   206230  Где-то раньше в связи с обрушившейся на нас св...        531\n",
       "100308   169254  В 7 часов утра я в компании двух московских де...        446\n",
       "100309    88672  Суббота. Вчера съездили на уборку картошки. Но...        346\n",
       "100311   110878  «Фигулирует».    \\nНаши полки лежат в обороне....        427\n",
       "100315    53870  Стали отпускать бойцов в краткосрочные отпуска...        312\n",
       "100318   191951  Что писал, думал, волновался — уже забыл! Удив...        321\n",
       "\n",
       "[40875 rows x 3 columns]"
      ]
     },
     "execution_count": 26,
     "metadata": {},
     "output_type": "execute_result"
    }
   ],
   "source": [
    "data[data.person_id.values!=-1]"
   ]
  },
  {
   "cell_type": "code",
   "execution_count": 27,
   "metadata": {
    "button": false,
    "new_sheet": false,
    "run_control": {
     "read_only": false
    }
   },
   "outputs": [
    {
     "data": {
      "text/plain": [
       "'Кончаю II т. Сошного письма с утомленным и подавленным духом. Кому это нужно теперь? Скоро ли понадобится, да и вообще нужны в России такие работы? Нужно побольше диссертаций, не для науки, а для ученых степеней, которых не хватает многим доцентам и даже профессорам.     \\nВ воскресенье у меня был Л. М. Сухотин<com id=\"1481900746415\"/>. Его присутствие и спокойная беседа с ним успокаивают меня и до некоторой степени возвращают мне самообладание. По своей выдержке и воспитанности всех сторон души он очень мало похож на русского. Во всяком случае в России таких людей очень мало.'"
      ]
     },
     "execution_count": 27,
     "metadata": {},
     "output_type": "execute_result"
    }
   ],
   "source": [
    "data[data.person_id.values!=-1].iloc[0].text"
   ]
  },
  {
   "cell_type": "code",
   "execution_count": null,
   "metadata": {
    "button": false,
    "collapsed": true,
    "new_sheet": false,
    "run_control": {
     "read_only": false
    }
   },
   "outputs": [],
   "source": []
  },
  {
   "cell_type": "code",
   "execution_count": null,
   "metadata": {
    "button": false,
    "collapsed": true,
    "new_sheet": false,
    "run_control": {
     "read_only": false
    }
   },
   "outputs": [],
   "source": []
  },
  {
   "cell_type": "code",
   "execution_count": null,
   "metadata": {
    "button": false,
    "collapsed": true,
    "new_sheet": false,
    "run_control": {
     "read_only": false
    }
   },
   "outputs": [],
   "source": []
  },
  {
   "cell_type": "code",
   "execution_count": null,
   "metadata": {
    "button": false,
    "collapsed": true,
    "new_sheet": false,
    "run_control": {
     "read_only": false
    }
   },
   "outputs": [],
   "source": []
  },
  {
   "cell_type": "markdown",
   "metadata": {
    "button": false,
    "new_sheet": false,
    "run_control": {
     "read_only": false
    }
   },
   "source": [
    "## Preprocessing"
   ]
  },
  {
   "cell_type": "code",
   "execution_count": 9,
   "metadata": {
    "button": false,
    "collapsed": true,
    "new_sheet": false,
    "run_control": {
     "read_only": false
    }
   },
   "outputs": [],
   "source": [
    "morph = pymorphy2.MorphAnalyzer()\n",
    "\n",
    "stem_sentence = lambda x: list(map(lambda x: morph.parse(x)[0].normal_form, x))\n",
    "lower_sentence = lambda x: list(map(lambda x: x.lower(), x))"
   ]
  },
  {
   "cell_type": "code",
   "execution_count": 10,
   "metadata": {
    "button": false,
    "new_sheet": false,
    "run_control": {
     "read_only": false
    }
   },
   "outputs": [
    {
     "name": "stderr",
     "output_type": "stream",
     "text": [
      "/Users/alexajax/anaconda3/lib/python3.5/site-packages/pandas/core/generic.py:2701: SettingWithCopyWarning: \n",
      "A value is trying to be set on a copy of a slice from a DataFrame.\n",
      "Try using .loc[row_indexer,col_indexer] = value instead\n",
      "\n",
      "See the caveats in the documentation: http://pandas.pydata.org/pandas-docs/stable/indexing.html#indexing-view-versus-copy\n",
      "  self[name] = value\n"
     ]
    },
    {
     "name": "stdout",
     "output_type": "stream",
     "text": [
      "OK!\n",
      "OK!\n",
      "OK!\n",
      "OK!\n",
      "OK!\n",
      "OK!\n",
      "OK!\n"
     ]
    }
   ],
   "source": [
    "dlabel.text = list(map(lambda x: re.sub(\"[\\?]\", \" ? \", x), dlabel.text))\n",
    "print(\"OK!\")\n",
    "dlabel.text = list(map(lambda x: re.sub(\"[\\!]\", \" ! \", x), dlabel.text))\n",
    "print(\"OK!\")\n",
    "dlabel.text = list(map(lambda x: re.sub(\"[^А-Яа-я\\!\\?]\", \" \", x), dlabel.text))\n",
    "dlabel.text = list(map(lambda x: re.sub(\"[a]\", \"а\", x), dlabel.text))\n",
    "dlabel.text = list(map(lambda x: re.sub(\"[^А-Яа-я]\", \" \", x), dlabel.text))\n",
    "print(\"OK!\")\n",
    "dlabel.text = list(map(lambda x: re.sub(\"[ё]\", \"е\", x), dlabel.text))\n",
    "print(\"OK!\")\n",
    "dlabel.text = list(map(lambda x: x.split(), dlabel.text))\n",
    "print(\"OK!\")\n",
    "dlabel.text = list(map(lower_sentence, dlabel.text))\n",
    "print(\"OK!\")\n",
    "dlabel.text = list(map(stem_sentence, dlabel.text))\n",
    "print(\"OK!\")"
   ]
  },
  {
   "cell_type": "code",
   "execution_count": 11,
   "metadata": {
    "button": false,
    "new_sheet": false,
    "run_control": {
     "read_only": false
    }
   },
   "outputs": [
    {
     "name": "stderr",
     "output_type": "stream",
     "text": [
      "/Users/alexajax/anaconda3/lib/python3.5/site-packages/pandas/core/generic.py:2701: SettingWithCopyWarning: \n",
      "A value is trying to be set on a copy of a slice from a DataFrame.\n",
      "Try using .loc[row_indexer,col_indexer] = value instead\n",
      "\n",
      "See the caveats in the documentation: http://pandas.pydata.org/pandas-docs/stable/indexing.html#indexing-view-versus-copy\n",
      "  self[name] = value\n"
     ]
    },
    {
     "name": "stdout",
     "output_type": "stream",
     "text": [
      "OK!\n",
      "OK!\n",
      "OK!\n",
      "OK!\n",
      "OK!\n",
      "OK!\n",
      "OK!\n"
     ]
    }
   ],
   "source": [
    "dunlabel.text = list(map(lambda x: re.sub(\"[\\?]\", \" ? \", x), dunlabel.text))\n",
    "print(\"OK!\")\n",
    "dunlabel.text = list(map(lambda x: re.sub(\"[\\!]\", \" ! \", x), dunlabel.text))\n",
    "print(\"OK!\")\n",
    "dunlabel.text = list(map(lambda x: re.sub(\"[^А-Яа-я\\!\\?]\", \" \", x), dunlabel.text))\n",
    "dunlabel.text = list(map(lambda x: re.sub(\"[a]\", \"а\", x), dunlabel.text))\n",
    "dunlabel.text = list(map(lambda x: re.sub(\"[^А-Яа-я]\", \" \", x), dunlabel.text))\n",
    "print(\"OK!\")\n",
    "dunlabel.text = list(map(lambda x: re.sub(\"[ё]\", \"е\", x), dunlabel.text))\n",
    "print(\"OK!\")\n",
    "dunlabel.text = list(map(lambda x: x.split(), dunlabel.text))\n",
    "print(\"OK!\")\n",
    "dunlabel.text = list(map(lower_sentence, dunlabel.text))\n",
    "print(\"OK!\")\n",
    "dunlabel.text = list(map(stem_sentence, dunlabel.text))\n",
    "print(\"OK!\")"
   ]
  },
  {
   "cell_type": "markdown",
   "metadata": {
    "button": false,
    "new_sheet": false,
    "run_control": {
     "read_only": false
    }
   },
   "source": [
    "## Build vocab"
   ]
  },
  {
   "cell_type": "code",
   "execution_count": 12,
   "metadata": {
    "button": false,
    "collapsed": true,
    "new_sheet": false,
    "run_control": {
     "read_only": false
    }
   },
   "outputs": [],
   "source": [
    "flatten = lambda l: [item for sublist in l for item in sublist]"
   ]
  },
  {
   "cell_type": "code",
   "execution_count": 13,
   "metadata": {
    "button": false,
    "new_sheet": false,
    "run_control": {
     "read_only": false
    },
    "scrolled": false
   },
   "outputs": [],
   "source": [
    "vocab = set(flatten(list(map(lambda x: x.split(), list(map(lambda x: \" \".join(x), dlabel.text)) + list(map(lambda x: \" \".join(x), dunlabel.text))))))"
   ]
  },
  {
   "cell_type": "markdown",
   "metadata": {
    "button": false,
    "new_sheet": false,
    "run_control": {
     "read_only": false
    }
   },
   "source": [
    "## Vectorizer"
   ]
  },
  {
   "cell_type": "code",
   "execution_count": 14,
   "metadata": {
    "button": false,
    "collapsed": true,
    "new_sheet": false,
    "run_control": {
     "read_only": false
    }
   },
   "outputs": [],
   "source": [
    "from sklearn.feature_extraction.text import TfidfVectorizer"
   ]
  },
  {
   "cell_type": "code",
   "execution_count": 15,
   "metadata": {
    "button": false,
    "collapsed": true,
    "new_sheet": false,
    "run_control": {
     "read_only": false
    }
   },
   "outputs": [],
   "source": [
    "lmodel = TfidfVectorizer(vocabulary=vocab, stop_words=stopwords)\n",
    "umodel = TfidfVectorizer(vocabulary=vocab, stop_words=stopwords)"
   ]
  },
  {
   "cell_type": "code",
   "execution_count": 16,
   "metadata": {
    "button": false,
    "new_sheet": false,
    "run_control": {
     "read_only": false
    }
   },
   "outputs": [
    {
     "name": "stderr",
     "output_type": "stream",
     "text": [
      "/Users/alexajax/anaconda3/lib/python3.5/site-packages/pandas/core/generic.py:2701: SettingWithCopyWarning: \n",
      "A value is trying to be set on a copy of a slice from a DataFrame.\n",
      "Try using .loc[row_indexer,col_indexer] = value instead\n",
      "\n",
      "See the caveats in the documentation: http://pandas.pydata.org/pandas-docs/stable/indexing.html#indexing-view-versus-copy\n",
      "  self[name] = value\n"
     ]
    }
   ],
   "source": [
    "dlabel.text = list(map(lambda x: \" \".join(x), dlabel.text))\n",
    "dunlabel.text = list(map(lambda x: \" \".join(x), dunlabel.text))"
   ]
  },
  {
   "cell_type": "code",
   "execution_count": 17,
   "metadata": {
    "button": false,
    "new_sheet": false,
    "run_control": {
     "read_only": false
    }
   },
   "outputs": [],
   "source": [
    "lmatrix = lmodel.fit_transform(dlabel.text.values)\n",
    "umatrix = umodel.fit_transform(dunlabel.text.values)"
   ]
  },
  {
   "cell_type": "markdown",
   "metadata": {
    "button": false,
    "new_sheet": false,
    "run_control": {
     "read_only": false
    }
   },
   "source": [
    "## RF"
   ]
  },
  {
   "cell_type": "code",
   "execution_count": 16,
   "metadata": {
    "button": false,
    "new_sheet": false,
    "run_control": {
     "read_only": false
    }
   },
   "outputs": [],
   "source": [
    "from sklearn.ensemble import RandomForestClassifier"
   ]
  },
  {
   "cell_type": "code",
   "execution_count": 18,
   "metadata": {
    "button": false,
    "new_sheet": false,
    "run_control": {
     "read_only": false
    }
   },
   "outputs": [
    {
     "name": "stdout",
     "output_type": "stream",
     "text": [
      "building tree 1 of 150\n",
      "building tree 2 of 150\n",
      "building tree 3 of 150\n",
      "building tree 4 of 150\n",
      "building tree 5 of 150\n",
      "building tree 6 of 150\n",
      "building tree 7 of 150\n",
      "building tree 8 of 150\n",
      "building tree 9 of 150\n",
      "building tree 10 of 150\n",
      "building tree 11 of 150\n",
      "building tree 12 of 150\n",
      "building tree 13 of 150\n",
      "building tree 14 of 150\n",
      "building tree 15 of 150\n",
      "building tree 16 of 150\n",
      "building tree 17 of 150\n",
      "building tree 18 of 150\n",
      "building tree 19 of 150\n",
      "building tree 20 of 150\n",
      "building tree 21 of 150\n",
      "building tree 22 of 150\n",
      "building tree 23 of 150\n",
      "building tree 24 of 150\n"
     ]
    },
    {
     "name": "stderr",
     "output_type": "stream",
     "text": [
      "[Parallel(n_jobs=-1)]: Done  16 tasks      | elapsed:   33.0s\n"
     ]
    },
    {
     "name": "stdout",
     "output_type": "stream",
     "text": [
      "building tree 25 of 150\n",
      "building tree 26 of 150\n",
      "building tree 27 of 150\n",
      "building tree 28 of 150\n",
      "building tree 29 of 150\n",
      "building tree 30 of 150\n",
      "building tree 31 of 150\n",
      "building tree 32 of 150\n",
      "building tree 33 of 150\n",
      "building tree 34 of 150\n",
      "building tree 35 of 150\n",
      "building tree 36 of 150\n",
      "building tree 37 of 150\n",
      "building tree 38 of 150\n",
      "building tree 39 of 150\n",
      "building tree 40 of 150\n",
      "building tree 41 of 150\n",
      "building tree 42 of 150\n",
      "building tree 43 of 150\n",
      "building tree 44 of 150\n",
      "building tree 45 of 150\n",
      "building tree 46 of 150\n",
      "building tree 47 of 150\n",
      "building tree 48 of 150\n",
      "building tree 49 of 150\n",
      "building tree 50 of 150\n",
      "building tree 51 of 150\n",
      "building tree 52 of 150\n",
      "building tree 53 of 150\n",
      "building tree 54 of 150\n",
      "building tree 55 of 150\n",
      "building tree 56 of 150\n",
      "building tree 57 of 150\n",
      "building tree 58 of 150\n",
      "building tree 59 of 150\n",
      "building tree 60 of 150\n",
      "building tree 61 of 150\n",
      "building tree 62 of 150\n",
      "building tree 63 of 150\n",
      "building tree 64 of 150\n",
      "building tree 65 of 150\n",
      "building tree 66 of 150\n",
      "building tree 67 of 150\n",
      "building tree 68 of 150\n",
      "building tree 69 of 150\n",
      "building tree 70 of 150\n",
      "building tree 71 of 150\n",
      "building tree 72 of 150\n",
      "building tree 73 of 150\n",
      "building tree 74 of 150\n",
      "building tree 75 of 150\n",
      "building tree 76 of 150\n",
      "building tree 77 of 150\n",
      "building tree 78 of 150\n",
      "building tree 79 of 150\n",
      "building tree 80 of 150\n",
      "building tree 81 of 150\n",
      "building tree 82 of 150\n",
      "building tree 83 of 150\n",
      "building tree 84 of 150\n",
      "building tree 85 of 150\n",
      "building tree 86 of 150\n",
      "building tree 87 of 150\n",
      "building tree 88 of 150\n",
      "building tree 89 of 150\n",
      "building tree 90 of 150\n",
      "building tree 91 of 150\n",
      "building tree 92 of 150\n",
      "building tree 93 of 150\n",
      "building tree 94 of 150\n",
      "building tree 95 of 150\n",
      "building tree 96 of 150\n",
      "building tree 97 of 150\n",
      "building tree 98 of 150\n",
      "building tree 99 of 150\n",
      "building tree 100 of 150\n",
      "building tree 101 of 150\n",
      "building tree 102 of 150\n",
      "building tree 103 of 150\n",
      "building tree 104 of 150\n",
      "building tree 105 of 150\n",
      "building tree 106 of 150\n",
      "building tree 107 of 150\n",
      "building tree 108 of 150\n",
      "building tree 109 of 150\n",
      "building tree 110 of 150\n",
      "building tree 111 of 150\n",
      "building tree 112 of 150\n",
      "building tree 113 of 150\n",
      "building tree 114 of 150\n",
      "building tree 115 of 150\n",
      "building tree 116 of 150\n",
      "building tree 117 of 150\n",
      "building tree 118 of 150\n",
      "building tree 119 of 150\n",
      "building tree 120 of 150\n"
     ]
    },
    {
     "name": "stderr",
     "output_type": "stream",
     "text": [
      "[Parallel(n_jobs=-1)]: Done 112 tasks      | elapsed:  3.9min\n"
     ]
    },
    {
     "name": "stdout",
     "output_type": "stream",
     "text": [
      "building tree 121 of 150\n",
      "building tree 122 of 150\n",
      "building tree 123 of 150\n",
      "building tree 124 of 150\n",
      "building tree 125 of 150\n",
      "building tree 126 of 150\n",
      "building tree 127 of 150\n",
      "building tree 128 of 150\n",
      "building tree 129 of 150\n",
      "building tree 130 of 150\n",
      "building tree 131 of 150\n",
      "building tree 132 of 150\n",
      "building tree 133 of 150\n",
      "building tree 134 of 150\n",
      "building tree 135 of 150\n",
      "building tree 136 of 150\n",
      "building tree 137 of 150\n",
      "building tree 138 of 150\n",
      "building tree 139 of 150\n",
      "building tree 140 of 150\n",
      "building tree 141 of 150\n",
      "building tree 142 of 150\n",
      "building tree 143 of 150\n",
      "building tree 144 of 150\n",
      "building tree 145 of 150\n",
      "building tree 146 of 150\n",
      "building tree 147 of 150\n",
      "building tree 148 of 150\n",
      "building tree 149 of 150\n",
      "building tree 150 of 150\n"
     ]
    },
    {
     "name": "stderr",
     "output_type": "stream",
     "text": [
      "[Parallel(n_jobs=-1)]: Done 150 out of 150 | elapsed:  5.2min finished\n"
     ]
    },
    {
     "data": {
      "text/plain": [
       "RandomForestClassifier(bootstrap=True, class_weight=None, criterion='gini',\n",
       "            max_depth=None, max_features='auto', max_leaf_nodes=None,\n",
       "            min_impurity_split=1e-07, min_samples_leaf=1,\n",
       "            min_samples_split=2, min_weight_fraction_leaf=0.0,\n",
       "            n_estimators=150, n_jobs=-1, oob_score=False,\n",
       "            random_state=None, verbose=3, warm_start=False)"
      ]
     },
     "execution_count": 18,
     "metadata": {},
     "output_type": "execute_result"
    }
   ],
   "source": [
    "from sklearn.ensemble import RandomForestClassifier"
   ]
  },
  {
   "cell_type": "code",
   "execution_count": 19,
   "metadata": {
    "button": false,
    "new_sheet": false,
    "run_control": {
     "read_only": false
    }
   },
   "outputs": [
    {
     "name": "stderr",
     "output_type": "stream",
     "text": [
      "[Parallel(n_jobs=8)]: Done  16 tasks      | elapsed:    3.4s\n",
      "[Parallel(n_jobs=8)]: Done 112 tasks      | elapsed:   26.4s\n",
      "[Parallel(n_jobs=8)]: Done 150 out of 150 | elapsed:   35.6s finished\n"
     ]
    }
   ],
   "source": [
    "answer = rf.predict(umatrix)"
   ]
  },
  {
   "cell_type": "code",
   "execution_count": null,
   "metadata": {
    "button": false,
    "collapsed": true,
    "new_sheet": false,
    "run_control": {
     "read_only": false
    }
   },
   "outputs": [],
   "source": [
    "from sklearn.linear import LogisticRegression"
   ]
  },
  {
   "cell_type": "code",
   "execution_count": 20,
   "metadata": {
    "button": false,
    "new_sheet": false,
    "run_control": {
     "read_only": false
    }
   },
   "outputs": [
    {
     "name": "stderr",
     "output_type": "stream",
     "text": [
      "/Users/alexajax/anaconda3/lib/python3.5/site-packages/ipykernel/__main__.py:1: SettingWithCopyWarning: \n",
      "A value is trying to be set on a copy of a slice from a DataFrame.\n",
      "Try using .loc[row_indexer,col_indexer] = value instead\n",
      "\n",
      "See the caveats in the documentation: http://pandas.pydata.org/pandas-docs/stable/indexing.html#indexing-view-versus-copy\n",
      "  if __name__ == '__main__':\n"
     ]
    }
   ],
   "source": [
    "dunlabel[\"person_id\"] = answer"
   ]
  },
  {
   "cell_type": "code",
   "execution_count": 24,
   "metadata": {
    "button": false,
    "new_sheet": false,
    "run_control": {
     "read_only": false
    }
   },
   "outputs": [],
   "source": [
    "dunlabel.to_csv(\"subm2.csv\", index=None)"
   ]
  },
  {
   "cell_type": "code",
   "execution_count": 23,
   "metadata": {
    "button": false,
    "collapsed": true,
    "new_sheet": false,
    "run_control": {
     "read_only": false
    }
   },
   "outputs": [],
   "source": [
    "np.save(\"lmatrix.npy\", lmatrix)"
   ]
  },
  {
   "cell_type": "code",
   "execution_count": 26,
   "metadata": {
    "button": false,
    "collapsed": true,
    "new_sheet": false,
    "run_control": {
     "read_only": false
    }
   },
   "outputs": [],
   "source": [
    "np.save(\"umatrix.npy\", umatrix)"
   ]
  },
  {
   "cell_type": "code",
   "execution_count": 55,
   "metadata": {
    "button": false,
    "collapsed": true,
    "new_sheet": false,
    "run_control": {
     "read_only": false
    }
   },
   "outputs": [],
   "source": [
    "np.save(\"y.npy\", dlabel.person_id.values)"
   ]
  },
  {
   "cell_type": "markdown",
   "metadata": {
    "button": false,
    "new_sheet": false,
    "run_control": {
     "read_only": false
    }
   },
   "source": [
    "## XGBoost"
   ]
  },
  {
   "cell_type": "code",
   "execution_count": 50,
   "metadata": {
    "button": false,
    "new_sheet": false,
    "run_control": {
     "read_only": false
    }
   },
   "outputs": [
    {
     "name": "stderr",
     "output_type": "stream",
     "text": [
      "/Users/alexajax/anaconda3/lib/python3.5/site-packages/sklearn/cross_validation.py:44: DeprecationWarning: This module was deprecated in version 0.18 in favor of the model_selection module into which all the refactored classes and functions are moved. Also note that the interface of the new CV iterators are different from that of this module. This module will be removed in 0.20.\n",
      "  \"This module will be removed in 0.20.\", DeprecationWarning)\n",
      "/Users/alexajax/anaconda3/lib/python3.5/site-packages/sklearn/grid_search.py:43: DeprecationWarning: This module was deprecated in version 0.18 in favor of the model_selection module into which all the refactored classes and functions are moved. This module will be removed in 0.20.\n",
      "  DeprecationWarning)\n"
     ]
    }
   ],
   "source": [
    "from xgboost import XGBClassifier\n",
    "import xgboost as xgb\n",
    "from sklearn.grid_search import GridSearchCV"
   ]
  },
  {
   "cell_type": "code",
   "execution_count": 15,
   "metadata": {
    "button": false,
    "new_sheet": false,
    "run_control": {
     "read_only": false
    }
   },
   "outputs": [],
   "source": [
    "ans = np.load(\"../answers.npy\")"
   ]
  },
  {
   "cell_type": "code",
   "execution_count": 16,
   "metadata": {
    "button": false,
    "new_sheet": false,
    "run_control": {
     "read_only": false
    }
   },
   "outputs": [
    {
     "data": {
      "text/plain": [
       "array([[304, 501, 999, ..., 448, 302, 318],\n",
       "       [304, 304, 999, ..., 448, 319, 318],\n",
       "       [304, 304, 999, ..., 448, 450, 318],\n",
       "       ..., \n",
       "       [304, 304, 999, ..., 342, 801, 318],\n",
       "       [304, 304, 999, ..., 448, 302, 318],\n",
       "       [304, 501, 999, ..., 374, 450, 318]])"
      ]
     },
     "execution_count": 16,
     "metadata": {},
     "output_type": "execute_result"
    }
   ],
   "source": []
  },
  {
   "cell_type": "code",
   "execution_count": 19,
   "metadata": {
    "button": false,
    "new_sheet": false,
    "run_control": {
     "read_only": false
    }
   },
   "outputs": [
    {
     "name": "stderr",
     "output_type": "stream",
     "text": [
      "/Users/alexajax/anaconda3/lib/python3.5/site-packages/ipykernel/__main__.py:2: SettingWithCopyWarning: \n",
      "A value is trying to be set on a copy of a slice from a DataFrame.\n",
      "Try using .loc[row_indexer,col_indexer] = value instead\n",
      "\n",
      "See the caveats in the documentation: http://pandas.pydata.org/pandas-docs/stable/indexing.html#indexing-view-versus-copy\n",
      "  from ipykernel import kernelapp as app\n"
     ]
    }
   ],
   "source": [
    "for i in range(len(ans)):\n",
    "    dunlabel[\"person_id\"] = ans[i]\n",
    "    pd.concat([dlabel, dunlabel]).to_csv(\"subms/subm{}.csv\".format(i), index=None)"
   ]
  },
  {
   "cell_type": "code",
   "execution_count": 46,
   "metadata": {
    "button": false,
    "new_sheet": false,
    "run_control": {
     "read_only": false
    }
   },
   "outputs": [
    {
     "name": "stderr",
     "output_type": "stream",
     "text": [
      "/Users/alexajax/anaconda3/lib/python3.5/site-packages/ipykernel/__main__.py:1: SettingWithCopyWarning: \n",
      "A value is trying to be set on a copy of a slice from a DataFrame.\n",
      "Try using .loc[row_indexer,col_indexer] = value instead\n",
      "\n",
      "See the caveats in the documentation: http://pandas.pydata.org/pandas-docs/stable/indexing.html#indexing-view-versus-copy\n",
      "  if __name__ == '__main__':\n"
     ]
    }
   ],
   "source": []
  },
  {
   "cell_type": "code",
   "execution_count": 47,
   "metadata": {
    "button": false,
    "new_sheet": false,
    "run_control": {
     "read_only": false
    }
   },
   "outputs": [],
   "source": [
    "pd.concat([dlabel, dunlabel]).to_csv(\"subm2.csv\",index=None)"
   ]
  },
  {
   "cell_type": "markdown",
   "metadata": {
    "button": false,
    "new_sheet": false,
    "run_control": {
     "read_only": false
    }
   },
   "source": [
    "## Serious stuff begins here..."
   ]
  },
  {
   "cell_type": "code",
   "execution_count": 148,
   "metadata": {
    "button": false,
    "collapsed": true,
    "new_sheet": false,
    "run_control": {
     "read_only": false
    }
   },
   "outputs": [],
   "source": [
    "from sklearn.naive_bayes import GaussianNB"
   ]
  },
  {
   "cell_type": "code",
   "execution_count": 159,
   "metadata": {
    "button": false,
    "collapsed": true,
    "new_sheet": false,
    "run_control": {
     "read_only": false
    }
   },
   "outputs": [],
   "source": [
    "from sklearn.preprocessing import OneHotEncoder"
   ]
  },
  {
   "cell_type": "code",
   "execution_count": 173,
   "metadata": {
    "button": false,
    "new_sheet": false,
    "run_control": {
     "read_only": false
    }
   },
   "outputs": [
    {
     "name": "stderr",
     "output_type": "stream",
     "text": [
      "/Users/alexajax/anaconda3/lib/python3.5/site-packages/sklearn/utils/validation.py:395: DeprecationWarning: Passing 1d arrays as data is deprecated in 0.17 and will raise ValueError in 0.19. Reshape your data either using X.reshape(-1, 1) if your data has a single feature or X.reshape(1, -1) if it contains a single sample.\n",
      "  DeprecationWarning)\n"
     ]
    },
    {
     "data": {
      "text/plain": [
       "(1, 40875)"
      ]
     },
     "execution_count": 173,
     "metadata": {},
     "output_type": "execute_result"
    }
   ],
   "source": [
    "encoder = OneHotEncoder()\n",
    "encoder.fit_transform(dlabel.person_id).shape"
   ]
  }
 ],
 "metadata": {
  "anaconda-cloud": {},
  "kernelspec": {
   "display_name": "Python 3",
   "language": "python",
   "name": "python3"
  },
  "language_info": {
   "codemirror_mode": {
    "name": "ipython",
    "version": 3
   },
   "file_extension": ".py",
   "mimetype": "text/x-python",
   "name": "python",
   "nbconvert_exporter": "python",
   "pygments_lexer": "ipython3",
   "version": "3.8.3"
  }
 },
 "nbformat": 4,
 "nbformat_minor": 1
}
